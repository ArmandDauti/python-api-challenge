{
 "cells": [
  {
   "cell_type": "markdown",
   "id": "7dcd9db2",
   "metadata": {},
   "source": [
    "# Note\n",
    "\n",
    "\n",
    "* Instructions have been included for each segment. You do not have to follow them exactly, but they are included to help you think through the steps.\n"
   ]
  },
  {
   "cell_type": "code",
   "execution_count": 1,
   "id": "b76d8ae2",
   "metadata": {},
   "outputs": [],
   "source": [
    "# Dependencies and Setup\n",
    "import matplotlib.pyplot as plt\n",
    "import pandas as pd\n",
    "import numpy as np\n",
    "import requests\n",
    "import time\n",
    "from scipy.stats import linregress\n",
    "\n",
    "# Import API key\n",
    "from api_keys import weather_api_key\n",
    "\n",
    "# Incorporated citipy to determine city based on latitude and longitude\n",
    "from citipy import citipy\n",
    "\n",
    "# Output File (CSV)\n",
    "output_data_file = \"output_data/cities.csv\"\n",
    "\n",
    "# Range of latitudes and longitudes\n",
    "lat_range = (-90, 90)\n",
    "lng_range = (-180, 180)"
   ]
  },
  {
   "cell_type": "markdown",
   "id": "0bc735c5",
   "metadata": {},
   "source": [
    "# Generate Cities List\n"
   ]
  },
  {
   "cell_type": "code",
   "execution_count": 2,
   "id": "fa95fe10",
   "metadata": {},
   "outputs": [
    {
     "data": {
      "text/plain": [
       "602"
      ]
     },
     "execution_count": 2,
     "metadata": {},
     "output_type": "execute_result"
    }
   ],
   "source": [
    "# List for holding lat_lngs and cities\n",
    "lat_lngs = []\n",
    "cities = []\n",
    "\n",
    "# Create a set of random lat and lng combinations\n",
    "lats = np.random.uniform(lat_range[0], lat_range[1], size=1500)\n",
    "lngs = np.random.uniform(lng_range[0], lng_range[1], size=1500)\n",
    "lat_lngs = zip(lats, lngs)\n",
    "\n",
    "# Identify nearest city for each lat, lng combination\n",
    "for lat_lng in lat_lngs:\n",
    "    city = citipy.nearest_city(lat_lng[0], lat_lng[1]).city_name\n",
    "    \n",
    "    # If the city is unique, then add it to a our cities list\n",
    "    if city not in cities:\n",
    "        cities.append(city)\n",
    "\n",
    "# Print the city count to confirm sufficient count\n",
    "len(cities)"
   ]
  },
  {
   "cell_type": "markdown",
   "id": "beb90a3f",
   "metadata": {},
   "source": [
    "# Perform API Calls\n",
    "\n",
    "\n",
    "* Perform a weather check on each city using a series of successive API calls.\n",
    "\n",
    "* Include a print log of each city as it'sbeing processed (with the city number and city name).\n",
    " "
   ]
  },
  {
   "cell_type": "code",
   "execution_count": 3,
   "id": "7ccdadb0",
   "metadata": {},
   "outputs": [],
   "source": [
    "base_url = \"http://api.openweathermap.org/data/2.5/weather?\"\n",
    "units = \"imperial\"\n",
    "\n",
    "# Build partial query URL\n",
    "query_url = f\"{base_url}appid={weather_api_key}&units={units}&q=\""
   ]
  },
  {
   "cell_type": "code",
   "execution_count": null,
   "id": "8e8f3bb7",
   "metadata": {},
   "outputs": [
    {
     "name": "stdout",
     "output_type": "stream",
     "text": [
      "yerbogachen not found.\n",
      "rikitea not found.\n",
      "sayyan not found.\n",
      "louisbourg not found.\n",
      "matagami not found.\n",
      "ushuaia not found.\n",
      "mataura not found.\n",
      "manyana not found.\n",
      "atuona not found.\n",
      "ascension not found.\n",
      "bredasdorp not found.\n",
      "illoqqortoormiut not found.\n",
      "ambilobe not found.\n",
      "ribeira grande not found.\n",
      "new norfolk not found.\n",
      "port elizabeth not found.\n",
      "berekum not found.\n",
      "hilo not found.\n",
      "codrington not found.\n",
      "yellowknife not found.\n",
      "carnarvon not found.\n",
      "katsuura not found.\n",
      "riyadh not found.\n",
      "butaritari not found.\n",
      "pangnirtung not found.\n",
      "aviles not found.\n",
      "port macquarie not found.\n",
      "bilma not found.\n",
      "hermanus not found.\n",
      "avarua not found.\n",
      "mahibadhoo not found.\n",
      "mys shmidta not found.\n",
      "dunedin not found.\n",
      "barroso not found.\n",
      "diu not found.\n",
      "cayenne not found.\n",
      "barentsburg not found.\n",
      "pine bluff not found.\n",
      "otradnoye not found.\n",
      "esperance not found.\n",
      "bluff not found.\n",
      "sharan not found.\n",
      "kodiak not found.\n",
      "havelock not found.\n",
      "pangody not found.\n",
      "hobart not found.\n",
      "pemangkat not found.\n",
      "klaksvik not found.\n",
      "saleaula not found.\n",
      "san patricio not found.\n",
      "kaitangata not found.\n",
      "tezpur not found.\n",
      "taolanaro not found.\n",
      "albany not found.\n",
      "castro not found.\n",
      "middle island not found.\n",
      "tasiilaq not found.\n",
      "punta arenas not found.\n",
      "turkistan not found.\n",
      "eyl not found.\n",
      "tumannyy not found.\n",
      "ponta do sol not found.\n",
      "sagone not found.\n",
      "cabo san lucas not found.\n",
      "kavieng not found.\n",
      "asyut not found.\n",
      "ijaki not found.\n",
      "lima not found.\n",
      "atambua not found.\n",
      "kapaa not found.\n",
      "tura not found.\n",
      "spearfish not found.\n",
      "ustupo not found.\n",
      "henties bay not found.\n",
      "novoseleznevo not found.\n",
      "pocatello not found.\n",
      "saint-philippe not found.\n",
      "maldonado not found.\n",
      "ostersund not found.\n",
      "nizhneyansk not found.\n",
      "busselton not found.\n",
      "naze not found.\n",
      "port hardy not found.\n",
      "barrow not found.\n",
      "provideniya not found.\n",
      "lubango not found.\n",
      "abha not found.\n",
      "crailsheim not found.\n",
      "cortez not found.\n",
      "chokurdakh not found.\n",
      "touros not found.\n",
      "la palma not found.\n",
      "clyde river not found.\n",
      "telhara not found.\n",
      "vestmannaeyjar not found.\n",
      "ilulissat not found.\n",
      "vardo not found.\n",
      "coihaique not found.\n",
      "verkhnevilyuysk not found.\n",
      "port alfred not found.\n",
      "vaini not found.\n",
      "banda aceh not found.\n",
      "east london not found.\n",
      "torbay not found.\n",
      "mahebourg not found.\n",
      "alugan not found.\n",
      "itoman not found.\n",
      "hervey bay not found.\n",
      "mar del plata not found.\n",
      "ponezhukay not found.\n",
      "arkansas city not found.\n",
      "kununurra not found.\n",
      "khonuu not found.\n",
      "godda not found.\n",
      "vaitupu not found.\n",
      "marmaris not found.\n",
      "tuktoyaktuk not found.\n",
      "rio gallegos not found.\n",
      "maneadero not found.\n",
      "farmington not found.\n",
      "luau not found.\n",
      "pacific grove not found.\n",
      "bambous virieux not found.\n",
      "san felipe not found.\n",
      "dolores not found.\n",
      "alvorada not found.\n",
      "sambava not found.\n",
      "cecina not found.\n",
      "piacabucu not found.\n",
      "bol not found.\n",
      "zile not found.\n",
      "airai not found.\n",
      "boden not found.\n",
      "changji not found.\n",
      "trapani not found.\n",
      "lompoc not found.\n",
      "severnyy not found.\n",
      "general roca not found.\n",
      "jamestown not found.\n",
      "bathsheba not found.\n",
      "lebu not found.\n",
      "ballina not found.\n",
      "leeton not found.\n",
      "eureka not found.\n",
      "palabuhanratu not found.\n",
      "karak not found.\n",
      "dikson not found.\n",
      "natal not found.\n",
      "sentyabrskiy not found.\n",
      "alyangula not found.\n",
      "saskylakh not found.\n",
      "bethel not found.\n",
      "tsihombe not found.\n",
      "hatillo not found.\n",
      "wewak not found.\n",
      "nikolskoye not found.\n",
      "zhaotong not found.\n",
      "westport not found.\n",
      "sataua not found.\n",
      "shaunavon not found.\n",
      "la ronge not found.\n",
      "comodoro rivadavia not found.\n",
      "dawei not found.\n",
      "belushya guba not found.\n",
      "yumen not found.\n",
      "salalah not found.\n",
      "chuy not found.\n",
      "maxixe not found.\n",
      "hithadhoo not found.\n",
      "hamilton not found.\n",
      "saint george not found.\n",
      "katiola not found.\n",
      "arman not found.\n",
      "alekseyevsk not found.\n",
      "pevek not found.\n",
      "port blair not found.\n",
      "cape town not found.\n",
      "khatanga not found.\n",
      "boa vista not found.\n",
      "dudinka not found.\n",
      "rio grande not found.\n",
      "motzorongo not found.\n",
      "rawannawi not found.\n",
      "nalgonda not found.\n",
      "puerto ayora not found.\n",
      "kosh-agach not found.\n"
     ]
    }
   ],
   "source": [
    "number_of_cities = []\n",
    "temperature = []\n",
    "lats = []\n",
    "long = []\n",
    "humidity = []\n",
    "cloudiness = []\n",
    "wind_speed = []\n",
    "country = []\n",
    "date = []\n",
    "count = 0\n",
    "\n",
    "\n",
    "for city in cities:\n",
    "\n",
    "    try:\n",
    "\n",
    "        response = requests.get(query_url + city).json()\n",
    "        temperature.append(response['main']['temp_max'])\n",
    "        hums.append(response['main']['humidity'])\n",
    "        lats.append(response['coord']['lat'])\n",
    "        long.append(response['coord']['lon'])\n",
    "        cloudiness.append(response['clouds']['all'])\n",
    "        wind_speed.append(response['wind']['speed'])\n",
    "        country.append(response['sys']['country'])\n",
    "        date.append(response['dt'])\n",
    "        number_of_cities.append(city)\n",
    "\n",
    "        print(f\"Processing record {count} | {city}\")\n",
    "        count = count + 1\n",
    "        \n",
    "    except:\n",
    "        print(f\"{city} not found.\")\n",
    "        \n",
    "              "
   ]
  },
  {
   "cell_type": "markdown",
   "id": "4a425f62",
   "metadata": {},
   "source": [
    "# Convert Raw Data to DataFrame\n",
    "\n",
    "\n",
    "* Export the city data into a .csv.\n",
    "\n",
    "* Display the DataFrame\n"
   ]
  },
  {
   "cell_type": "code",
   "execution_count": null,
   "id": "27e501cf",
   "metadata": {
    "scrolled": false
   },
   "outputs": [],
   "source": [
    "# create a data frame\n",
    "cities_df = {\n",
    "    \"City\": number_of_cities,\n",
    "    \"Lat\": lats,\n",
    "    \"Lng\": long,\n",
    "    \"Max Temp\": temperature,\n",
    "    \"Humidity\": humidity,\n",
    "    \"Cloudiness\": cloudiness,\n",
    "    \"Wind Speed\": wind_speed,\n",
    "    \"Country\": country,\n",
    "    \"Date\": date\n",
    "}\n",
    "weather_data = pd.DataFrame(cities_df)\n",
    "weather_data"
   ]
  },
  {
   "cell_type": "code",
   "execution_count": null,
   "id": "2fdedea1",
   "metadata": {},
   "outputs": [],
   "source": [
    "# export DataFrame to CSV file\n",
    "weather_data.to_csv(\"output_data/cities.csv\")"
   ]
  },
  {
   "cell_type": "code",
   "execution_count": null,
   "id": "53697d73",
   "metadata": {},
   "outputs": [],
   "source": [
    "weather_data.describe()"
   ]
  },
  {
   "cell_type": "markdown",
   "id": "41bdb230",
   "metadata": {},
   "source": [
    "# Inspect the data and remove the cities where the humidity > 100%.\n",
    "\n",
    "\n",
    "* Skip this step if there are no cities that have humidity > 100%. "
   ]
  },
  {
   "cell_type": "code",
   "execution_count": null,
   "id": "e39711c7",
   "metadata": {},
   "outputs": [],
   "source": [
    "#  Get the indices of cities that have humidity over 100%.\n",
    "weather_data.loc[weather_data['Humidity'] > 100]"
   ]
  },
  {
   "cell_type": "code",
   "execution_count": null,
   "id": "a2587490",
   "metadata": {},
   "outputs": [],
   "source": [
    "Int64Index([], dtype='int64')"
   ]
  },
  {
   "cell_type": "code",
   "execution_count": null,
   "id": "d4ec4ae8",
   "metadata": {},
   "outputs": [],
   "source": [
    "# Make a new DataFrame equal to the city data to drop all humidity outliers by index.\n",
    "# Passing \"inplace=False\" will make a copy of the city_data DataFrame, which we call \"clean_city_data\"."
   ]
  },
  {
   "cell_type": "markdown",
   "id": "8b71af6c",
   "metadata": {},
   "source": [
    "# Plotting the Data\n",
    "\n",
    "\n",
    "* Use proper labeling of the plots using plot titles (including date of analysis) and axes labels.\n",
    "\n",
    "* Save the plotted figures as .pngs.\n"
   ]
  },
  {
   "cell_type": "markdown",
   "id": "ac33da2b",
   "metadata": {},
   "source": [
    "# Latitude vs. Temperature Plot\n"
   ]
  },
  {
   "cell_type": "code",
   "execution_count": null,
   "id": "5c9e9285",
   "metadata": {},
   "outputs": [],
   "source": [
    "plt.scatter(weather_data['Latitude'], weather_data['Temperature'])\n",
    "plt.xlabel('Latitude')\n",
    "plt.ylabel('Temperature')\n",
    "plt.title('Latitude vs. Temperature')\n",
    "\n",
    "plt.savefig('output_data/Latitude-vs-Temperature.png')\n",
    "\n",
    "plt.show()\n",
    "\n"
   ]
  },
  {
   "cell_type": "markdown",
   "id": "c7d11578",
   "metadata": {},
   "source": [
    "# Latitude vs. Humidity Plot\n"
   ]
  },
  {
   "cell_type": "code",
   "execution_count": null,
   "id": "6b7a2e6f",
   "metadata": {},
   "outputs": [],
   "source": [
    "plt.scatter(weather_data['Latitude'], weather_data['Humidity'])\n",
    "plt.xlabel('Latitude')\n",
    "plt.ylabel('Humidity')\n",
    "plt.title('Latitude vs. Humidity')\n",
    "\n",
    "plt.savefig('output_data/Latitude-vs-Humidity.png')\n",
    "\n",
    "plt.show()"
   ]
  },
  {
   "cell_type": "markdown",
   "id": "936c3c58",
   "metadata": {},
   "source": [
    "# Latitude vs. Cloudiness Plot\n"
   ]
  },
  {
   "cell_type": "code",
   "execution_count": null,
   "id": "d25a43e8",
   "metadata": {},
   "outputs": [],
   "source": [
    "plt.scatter(weather_data['Latitude'], weather_data['Cloudiness'])\n",
    "plt.xlabel('Latitude')\n",
    "plt.ylabel('Cloudiness')\n",
    "plt.title('Latitude vs. Cloudiness')\n",
    "\n",
    "plt.savefig('output_data/Latitude-vs-Cloudiness.png')\n",
    "\n",
    "plt.show()"
   ]
  },
  {
   "cell_type": "markdown",
   "id": "e0ee4977",
   "metadata": {},
   "source": [
    "# Latitude vs. Wind Speed Plot\n"
   ]
  },
  {
   "cell_type": "code",
   "execution_count": null,
   "id": "387019ee",
   "metadata": {},
   "outputs": [],
   "source": [
    "plt.scatter(weather_data['Latitude'], weather_data['Wind Speed'])\n",
    "plt.xlabel('Latitude')\n",
    "plt.ylabel('Wind Speed')\n",
    "plt.title('Latitude vs. Wind Speed')\n",
    "\n",
    "plt.savefig('output_data/Latitude-vs-Wind_Speed.png')\n",
    "\n",
    "plt.show()"
   ]
  },
  {
   "cell_type": "markdown",
   "id": "8caa1cd1",
   "metadata": {},
   "source": [
    "# Linear Regression\n"
   ]
  },
  {
   "cell_type": "code",
   "execution_count": null,
   "id": "78c6e04d",
   "metadata": {},
   "outputs": [],
   "source": []
  },
  {
   "cell_type": "markdown",
   "id": "772c5717",
   "metadata": {},
   "source": [
    "# Northern Hemisphere - Max Temp vs. Latitude Linear Regression\n"
   ]
  },
  {
   "cell_type": "code",
   "execution_count": null,
   "id": "c5a46d59",
   "metadata": {},
   "outputs": [],
   "source": []
  },
  {
   "cell_type": "markdown",
   "id": "5d58e99b",
   "metadata": {},
   "source": [
    "# Northern Hemisphere - Humidity (%) vs. Latitude Linear Regression\n"
   ]
  },
  {
   "cell_type": "code",
   "execution_count": null,
   "id": "0b85e555",
   "metadata": {},
   "outputs": [],
   "source": []
  },
  {
   "cell_type": "markdown",
   "id": "b6ab9ccd",
   "metadata": {},
   "source": [
    "# Southern Hemisphere - Humidity (%) vs. Latitude Linear Regression\n"
   ]
  },
  {
   "cell_type": "code",
   "execution_count": null,
   "id": "e1fb556f",
   "metadata": {},
   "outputs": [],
   "source": []
  },
  {
   "cell_type": "markdown",
   "id": "a738f601",
   "metadata": {},
   "source": [
    "# Northern Hemisphere - Cloudiness (%) vs. Latitude Linear Regression\n"
   ]
  },
  {
   "cell_type": "code",
   "execution_count": null,
   "id": "52466026",
   "metadata": {},
   "outputs": [],
   "source": []
  },
  {
   "cell_type": "markdown",
   "id": "65823683",
   "metadata": {},
   "source": [
    "# Southern Hemisphere - Cloudiness (%) vs. Latitude Linear Regression\n"
   ]
  },
  {
   "cell_type": "code",
   "execution_count": null,
   "id": "0b229fc8",
   "metadata": {},
   "outputs": [],
   "source": []
  },
  {
   "cell_type": "markdown",
   "id": "b6e83847",
   "metadata": {},
   "source": [
    "# Northern Hemisphere - Wind Speed (mph) vs. Latitude Linear Regression\n"
   ]
  },
  {
   "cell_type": "code",
   "execution_count": null,
   "id": "093eb9f7",
   "metadata": {},
   "outputs": [],
   "source": []
  },
  {
   "cell_type": "markdown",
   "id": "b0abc7ca",
   "metadata": {},
   "source": [
    "# Southern Hemisphere - Wind Speed (mph) vs. Latitude Linear Regression\n"
   ]
  },
  {
   "cell_type": "code",
   "execution_count": null,
   "id": "47850174",
   "metadata": {},
   "outputs": [],
   "source": []
  },
  {
   "cell_type": "code",
   "execution_count": null,
   "id": "4501bce5",
   "metadata": {},
   "outputs": [],
   "source": []
  }
 ],
 "metadata": {
  "kernelspec": {
   "display_name": "Python 3 (ipykernel)",
   "language": "python",
   "name": "python3"
  },
  "language_info": {
   "codemirror_mode": {
    "name": "ipython",
    "version": 3
   },
   "file_extension": ".py",
   "mimetype": "text/x-python",
   "name": "python",
   "nbconvert_exporter": "python",
   "pygments_lexer": "ipython3",
   "version": "3.8.13"
  },
  "vscode": {
   "interpreter": {
    "hash": "db816d7616de24ade41e083521320c478457ecc7c227d9955d702456c2841bc9"
   }
  }
 },
 "nbformat": 4,
 "nbformat_minor": 5
}

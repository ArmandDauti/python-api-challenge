{
 "cells": [
  {
   "cell_type": "markdown",
   "id": "7dcd9db2",
   "metadata": {},
   "source": [
    "# Note\n",
    "\n",
    "\n",
    "* Instructions have been included for each segment. You do not have to follow them exactly, but they are included to help you think through the steps.\n"
   ]
  },
  {
   "cell_type": "code",
   "execution_count": 1,
   "id": "b76d8ae2",
   "metadata": {},
   "outputs": [],
   "source": [
    "# Dependencies and Setup\n",
    "import matplotlib.pyplot as plt\n",
    "import pandas as pd\n",
    "import numpy as np\n",
    "import requests\n",
    "import time\n",
    "from scipy.stats import linregress\n",
    "import json\n",
    "\n",
    "# Import API key\n",
    "from api_keys import weather_api_key\n",
    "\n",
    "# Incorporated citipy to determine city based on latitude and longitude\n",
    "from citipy import citipy\n",
    "\n",
    "# Output File (CSV)\n",
    "output_data_file = \"output_data/cities.csv\"\n",
    "\n",
    "# Range of latitudes and longitudes\n",
    "lat_range = (-90, 90)\n",
    "lng_range = (-180, 180)"
   ]
  },
  {
   "cell_type": "markdown",
   "id": "0bc735c5",
   "metadata": {},
   "source": [
    "# Generate Cities List\n"
   ]
  },
  {
   "cell_type": "code",
   "execution_count": 2,
   "id": "fa95fe10",
   "metadata": {},
   "outputs": [
    {
     "data": {
      "text/plain": [
       "589"
      ]
     },
     "execution_count": 2,
     "metadata": {},
     "output_type": "execute_result"
    }
   ],
   "source": [
    "# List for holding lat_lngs and cities\n",
    "lat_lngs = []\n",
    "cities = []\n",
    "\n",
    "# Create a set of random lat and lng combinations\n",
    "lats = np.random.uniform(lat_range[0], lat_range[1], size=1500)\n",
    "lngs = np.random.uniform(lng_range[0], lng_range[1], size=1500)\n",
    "lat_lngs = zip(lats, lngs)\n",
    "\n",
    "# Identify nearest city for each lat, lng combination\n",
    "for lat_lng in lat_lngs:\n",
    "    city = citipy.nearest_city(lat_lng[0], lat_lng[1]).city_name\n",
    "    \n",
    "    # If the city is unique, then add it to a our cities list\n",
    "    if city not in cities:\n",
    "        cities.append(city)\n",
    "\n",
    "# Print the city count to confirm sufficient count\n",
    "len(cities)"
   ]
  },
  {
   "cell_type": "markdown",
   "id": "beb90a3f",
   "metadata": {},
   "source": [
    "# Perform API Calls\n",
    "\n",
    "\n",
    "* Perform a weather check on each city using a series of successive API calls.\n",
    "\n",
    "* Include a print log of each city as it'sbeing processed (with the city number and city name).\n",
    " "
   ]
  },
  {
   "cell_type": "code",
   "execution_count": 3,
   "id": "7ccdadb0",
   "metadata": {},
   "outputs": [],
   "source": [
    "base_url = \"http://api.openweathermap.org/data/2.5/weather?\"\n",
    "units = \"imperial\"\n",
    "\n",
    "# Create query URL\n",
    "query_url = f\"{base_url}appid={weather_api_key}&units={units}&q=\""
   ]
  },
  {
   "cell_type": "code",
   "execution_count": 4,
   "id": "8e8f3bb7",
   "metadata": {},
   "outputs": [
    {
     "name": "stdout",
     "output_type": "stream",
     "text": [
      "Processing record 1 | tuktoyaktuk\n",
      "Processing record 2 | pevek\n",
      "Processing record 3 | sorong\n",
      "Processing record 4 | khatanga\n",
      "barentsburg not found.\n",
      "Processing record 5 | hasaki\n",
      "Processing record 6 | arraial do cabo\n",
      "Processing record 7 | coihaique\n",
      "Processing record 8 | mataura\n",
      "Processing record 9 | hambantota\n",
      "Processing record 10 | rio gallegos\n",
      "Processing record 11 | port elizabeth\n",
      "Processing record 12 | havoysund\n",
      "Processing record 13 | brownfield\n",
      "Processing record 14 | rikitea\n",
      "Processing record 15 | mehamn\n",
      "Processing record 16 | albany\n",
      "Processing record 17 | sandwick\n",
      "ningan not found.\n",
      "Processing record 18 | upernavik\n",
      "Processing record 19 | ushuaia\n",
      "Processing record 20 | sioux lookout\n",
      "Processing record 21 | carnarvon\n",
      "Processing record 22 | te anau\n",
      "Processing record 23 | bengkulu\n",
      "Processing record 24 | vaini\n",
      "Processing record 25 | birjand\n",
      "Processing record 26 | tautira\n",
      "belushya guba not found.\n",
      "Processing record 27 | lavrentiya\n",
      "Processing record 28 | avarua\n",
      "Processing record 29 | muros\n",
      "Processing record 30 | busselton\n",
      "Processing record 31 | jamestown\n",
      "Processing record 32 | cayenne\n",
      "Processing record 33 | kodiak\n",
      "Processing record 34 | torbay\n",
      "Processing record 35 | bud\n",
      "Processing record 36 | le vauclin\n",
      "Processing record 37 | jibuti\n",
      "Processing record 38 | esperance\n",
      "Processing record 39 | batsfjord\n",
      "Processing record 40 | ponta do sol\n",
      "Processing record 41 | semirom\n",
      "Processing record 42 | narsaq\n",
      "Processing record 43 | hermanus\n",
      "Processing record 44 | guerrero negro\n",
      "Processing record 45 | sindou\n",
      "Processing record 46 | east london\n",
      "Processing record 47 | bubaque\n",
      "Processing record 48 | santa rosa\n",
      "Processing record 49 | billings\n",
      "Processing record 50 | butaritari\n",
      "Processing record 51 | saint-philippe\n",
      "Processing record 52 | kununurra\n",
      "Processing record 53 | great bend\n",
      "Processing record 54 | ribeira grande\n",
      "Processing record 55 | tapes\n",
      "Processing record 56 | new norfolk\n",
      "Processing record 57 | mahebourg\n",
      "Processing record 58 | punta arenas\n",
      "Processing record 59 | ust-koksa\n",
      "Processing record 60 | san felipe\n",
      "Processing record 61 | cidreira\n",
      "Processing record 62 | cape town\n",
      "Processing record 63 | opuwo\n",
      "Processing record 64 | mar del plata\n",
      "Processing record 65 | kaitangata\n",
      "Processing record 66 | portland\n",
      "Processing record 67 | yar-sale\n",
      "amderma not found.\n",
      "Processing record 68 | katsuura\n",
      "Processing record 69 | hobart\n",
      "Processing record 70 | atuona\n",
      "Processing record 71 | meadow lake\n",
      "Processing record 72 | touho\n",
      "Processing record 73 | leningradskiy\n",
      "Processing record 74 | tulun\n",
      "Processing record 75 | paamiut\n",
      "Processing record 76 | chuy\n",
      "Processing record 77 | severo-kurilsk\n",
      "Processing record 78 | komsomolskiy\n",
      "Processing record 79 | talnakh\n",
      "Processing record 80 | praia da vitoria\n",
      "Processing record 81 | altay\n",
      "taolanaro not found.\n",
      "saint-pascal not found.\n",
      "Processing record 82 | astana\n",
      "Processing record 83 | vao\n",
      "Processing record 84 | vanimo\n",
      "wulanhaote not found.\n",
      "illoqqortoormiut not found.\n",
      "Processing record 85 | flin flon\n",
      "Processing record 86 | inirida\n",
      "Processing record 87 | georgetown\n",
      "Processing record 88 | bluff\n",
      "Processing record 89 | port alfred\n",
      "Processing record 90 | kapaa\n",
      "Processing record 91 | pacific grove\n",
      "Processing record 92 | qaanaaq\n",
      "Processing record 93 | sao joao da barra\n",
      "Processing record 94 | klaksvik\n",
      "Processing record 95 | castro\n",
      "Processing record 96 | lebu\n",
      "Processing record 97 | baghdad\n",
      "Processing record 98 | saldanha\n",
      "a not found.\n",
      "Processing record 99 | barrow\n",
      "Processing record 100 | cherskiy\n",
      "tsihombe not found.\n",
      "Processing record 101 | toamasina\n",
      "Processing record 102 | kolvereid\n",
      "Processing record 103 | forest park\n",
      "Processing record 104 | thompson\n",
      "Processing record 105 | beloha\n",
      "Processing record 106 | port-cartier\n",
      "Processing record 107 | yellowknife\n",
      "Processing record 108 | cotonou\n",
      "Processing record 109 | sao filipe\n",
      "Processing record 110 | mount gambier\n",
      "Processing record 111 | longyearbyen\n",
      "attawapiskat not found.\n",
      "Processing record 112 | doka\n",
      "Processing record 113 | antequera\n",
      "Processing record 114 | chippewa falls\n",
      "Processing record 115 | ca mau\n",
      "Processing record 116 | koslan\n",
      "Processing record 117 | sept-iles\n",
      "Processing record 118 | santiago de puringla\n",
      "Processing record 119 | kushiro\n",
      "Processing record 120 | henties bay\n",
      "Processing record 121 | bredasdorp\n",
      "nizhneyansk not found.\n",
      "Processing record 122 | ayagoz\n",
      "Processing record 123 | omboue\n",
      "Processing record 124 | isla vista\n",
      "Processing record 125 | san antonio\n",
      "Processing record 126 | pitea\n",
      "Processing record 127 | miandrivazo\n",
      "Processing record 128 | chokurdakh\n",
      "Processing record 129 | brigantine\n",
      "Processing record 130 | high level\n",
      "Processing record 131 | san andres\n",
      "Processing record 132 | coquimbo\n",
      "Processing record 133 | saskylakh\n",
      "Processing record 134 | alta floresta\n",
      "Processing record 135 | matagami\n",
      "Processing record 136 | mizdah\n",
      "Processing record 137 | rocha\n",
      "Processing record 138 | pangnirtung\n",
      "Processing record 139 | dunedin\n",
      "Processing record 140 | hualmay\n",
      "Processing record 141 | brae\n",
      "Processing record 142 | nabire\n",
      "Processing record 143 | hithadhoo\n",
      "Processing record 144 | gimbi\n",
      "Processing record 145 | nizwa\n",
      "Processing record 146 | puerto ayora\n",
      "Processing record 147 | airai\n",
      "Processing record 148 | pontes e lacerda\n",
      "Processing record 149 | shelby\n",
      "Processing record 150 | ancud\n",
      "Processing record 151 | vitim\n",
      "Processing record 152 | dong xoai\n",
      "Processing record 153 | bondoukou\n",
      "Processing record 154 | shieli\n",
      "Processing record 155 | yenagoa\n",
      "Processing record 156 | sao jose da coroa grande\n",
      "Processing record 157 | oistins\n",
      "Processing record 158 | alofi\n",
      "yefira not found.\n",
      "tawnat not found.\n",
      "Processing record 159 | tabuk\n",
      "tumannyy not found.\n",
      "Processing record 160 | karabuk\n",
      "Processing record 161 | kiunga\n",
      "Processing record 162 | labuhan\n",
      "Processing record 163 | nemuro\n",
      "Processing record 164 | necochea\n",
      "Processing record 165 | anadyr\n",
      "Processing record 166 | arman\n",
      "Processing record 167 | prince rupert\n",
      "Processing record 168 | kanakapura\n",
      "Processing record 169 | kodinsk\n",
      "Processing record 170 | broome\n",
      "samalaeulu not found.\n",
      "Processing record 171 | morondava\n",
      "angra not found.\n",
      "Processing record 172 | kruisfontein\n",
      "Processing record 173 | killybegs\n",
      "Processing record 174 | poplar bluff\n",
      "viligili not found.\n",
      "Processing record 175 | beringovskiy\n",
      "Processing record 176 | camacha\n",
      "Processing record 177 | hilo\n",
      "Processing record 178 | pisco\n",
      "Processing record 179 | skovorodino\n",
      "Processing record 180 | devils lake\n",
      "Processing record 181 | arona\n",
      "Processing record 182 | college\n",
      "Processing record 183 | north bend\n",
      "Processing record 184 | mahajanga\n",
      "Processing record 185 | chakwal\n",
      "Processing record 186 | amuntai\n",
      "Processing record 187 | titlagarh\n",
      "Processing record 188 | namibe\n",
      "Processing record 189 | los llanos de aridane\n",
      "stoyba not found.\n",
      "Processing record 190 | campo verde\n",
      "Processing record 191 | isangel\n",
      "Processing record 192 | wad rawah\n",
      "Processing record 193 | nome\n",
      "Processing record 194 | kahului\n",
      "Processing record 195 | hutang\n",
      "Processing record 196 | muzhi\n",
      "Processing record 197 | pachmarhi\n",
      "Processing record 198 | soyo\n",
      "Processing record 199 | tura\n",
      "Processing record 200 | polunochnoye\n",
      "Processing record 201 | port hardy\n",
      "Processing record 202 | saraza\n",
      "Processing record 203 | tasiilaq\n",
      "Processing record 204 | porbandar\n",
      "Processing record 205 | half moon bay\n",
      "ugarcin not found.\n",
      "Processing record 206 | sao paulo de olivenca\n",
      "Processing record 207 | nangong\n",
      "Processing record 208 | ilulissat\n",
      "Processing record 209 | shimoda\n",
      "Processing record 210 | aberfoyle\n",
      "Processing record 211 | bambous virieux\n",
      "Processing record 212 | atar\n",
      "Processing record 213 | mtwara\n",
      "Processing record 214 | bonthe\n",
      "Processing record 215 | borogontsy\n",
      "Processing record 216 | san patricio\n",
      "Processing record 217 | nurota\n",
      "Processing record 218 | souillac\n",
      "Processing record 219 | anchorage\n",
      "Processing record 220 | tabas\n",
      "bac can not found.\n",
      "Processing record 221 | flinders\n",
      "Processing record 222 | kisangani\n",
      "maghama not found.\n",
      "Processing record 223 | abu dhabi\n",
      "Processing record 224 | sitka\n",
      "Processing record 225 | hamilton\n",
      "Processing record 226 | luderitz\n",
      "Processing record 227 | nikolskoye\n",
      "Processing record 228 | marzuq\n",
      "Processing record 229 | vaxjo\n",
      "Processing record 230 | svetlaya\n",
      "Processing record 231 | dikson\n",
      "Processing record 232 | belomorsk\n",
      "Processing record 233 | hovd\n",
      "Processing record 234 | semey\n",
      "Processing record 235 | casper\n"
     ]
    },
    {
     "name": "stdout",
     "output_type": "stream",
     "text": [
      "Processing record 236 | palu\n",
      "Processing record 237 | nokaneng\n",
      "Processing record 238 | geraldton\n",
      "el faiyum not found.\n",
      "Processing record 239 | goderich\n",
      "Processing record 240 | padang\n",
      "Processing record 241 | lata\n",
      "toliary not found.\n",
      "Processing record 242 | tual\n",
      "Processing record 243 | mount isa\n",
      "Processing record 244 | oktyabrskiy\n",
      "mys shmidta not found.\n",
      "Processing record 245 | miasskoye\n",
      "Processing record 246 | himare\n",
      "Processing record 247 | dalkola\n",
      "labutta not found.\n",
      "Processing record 248 | nioro\n",
      "Processing record 249 | marion\n",
      "Processing record 250 | kavaratti\n",
      "tome-acu not found.\n",
      "Processing record 251 | san cristobal\n",
      "Processing record 252 | lompoc\n",
      "Processing record 253 | camopi\n",
      "Processing record 254 | kavieng\n",
      "Processing record 255 | canaries\n",
      "Processing record 256 | saint-augustin\n",
      "galiwinku not found.\n",
      "Processing record 257 | ardabil\n",
      "Processing record 258 | dakoro\n",
      "Processing record 259 | ballina\n",
      "Processing record 260 | provideniya\n",
      "Processing record 261 | aktau\n",
      "Processing record 262 | yemtsa\n",
      "Processing record 263 | vostok\n",
      "Processing record 264 | whitehorse\n",
      "skagastrond not found.\n",
      "Processing record 265 | cocorit\n",
      "vaitupu not found.\n",
      "Processing record 266 | doha\n",
      "Processing record 267 | ndele\n",
      "Processing record 268 | kandava\n",
      "Processing record 269 | boyuibe\n",
      "Processing record 270 | olovi\n",
      "Processing record 271 | rio grande\n",
      "Processing record 272 | ghanzi\n",
      "Processing record 273 | chaiyaphum\n",
      "Processing record 274 | okakarara\n",
      "Processing record 275 | oyama\n",
      "Processing record 276 | nalvo\n",
      "Processing record 277 | lakshettipet\n",
      "Processing record 278 | jinchang\n",
      "Processing record 279 | walvis bay\n",
      "Processing record 280 | goure\n",
      "Processing record 281 | nanortalik\n",
      "Processing record 282 | gejiu\n",
      "Processing record 283 | birao\n",
      "Processing record 284 | iqaluit\n",
      "Processing record 285 | marsh harbour\n",
      "Processing record 286 | muriti\n",
      "Processing record 287 | trinidad\n",
      "Processing record 288 | pangai\n",
      "Processing record 289 | port moresby\n",
      "Processing record 290 | dawson creek\n",
      "Processing record 291 | cabo san lucas\n",
      "saleaula not found.\n",
      "skalistyy not found.\n",
      "Processing record 292 | vanavara\n",
      "Processing record 293 | charters towers\n",
      "Processing record 294 | lasa\n",
      "ust-kamchatsk not found.\n",
      "Processing record 295 | bandarbeyla\n",
      "Processing record 296 | norman wells\n",
      "Processing record 297 | touros\n",
      "Processing record 298 | oranjestad\n",
      "Processing record 299 | hervey bay\n",
      "Processing record 300 | bulnes\n",
      "Processing record 301 | saint-francois\n",
      "Processing record 302 | san quintin\n",
      "Processing record 303 | fare\n",
      "Processing record 304 | sinnamary\n",
      "Processing record 305 | cedar city\n",
      "Processing record 306 | vardo\n",
      "Processing record 307 | alamosa\n",
      "Processing record 308 | saint-georges\n",
      "Processing record 309 | warren\n",
      "Processing record 310 | kirakira\n",
      "Processing record 311 | casas adobes\n",
      "Processing record 312 | cap malheureux\n",
      "Processing record 313 | levokumka\n",
      "Processing record 314 | inuvik\n",
      "Processing record 315 | grindavik\n",
      "Processing record 316 | christchurch\n",
      "Processing record 317 | balikpapan\n",
      "Processing record 318 | bairiki\n",
      "Processing record 319 | saint george\n",
      "Processing record 320 | cairns\n",
      "Processing record 321 | gamba\n",
      "Processing record 322 | broken hill\n",
      "Processing record 323 | constitucion\n",
      "Processing record 324 | tateyama\n",
      "Processing record 325 | biak\n",
      "Processing record 326 | yulara\n",
      "Processing record 327 | faya\n",
      "Processing record 328 | pochutla\n",
      "Processing record 329 | barcelos\n",
      "Processing record 330 | lokoja\n",
      "Processing record 331 | acajutla\n",
      "Processing record 332 | bull savanna\n",
      "miranorte not found.\n",
      "Processing record 333 | rurrenabaque\n",
      "Processing record 334 | bethel\n",
      "Processing record 335 | beboto\n",
      "Processing record 336 | mabaruma\n",
      "Processing record 337 | yerbogachen\n",
      "Processing record 338 | okhotsk\n",
      "Processing record 339 | letlhakane\n",
      "rawannawi not found.\n",
      "Processing record 340 | tessalit\n",
      "Processing record 341 | fortuna\n",
      "Processing record 342 | manta\n",
      "Processing record 343 | beidao\n",
      "Processing record 344 | fria\n",
      "Processing record 345 | vanatori\n",
      "Processing record 346 | basco\n",
      "Processing record 347 | pemangkat\n",
      "Processing record 348 | vila velha\n",
      "Processing record 349 | kilindoni\n",
      "Processing record 350 | sampit\n",
      "Processing record 351 | codrington\n",
      "Processing record 352 | havelock\n",
      "Processing record 353 | coahuayana\n",
      "Processing record 354 | victoria\n",
      "sentyabrskiy not found.\n",
      "louisbourg not found.\n",
      "nguiu not found.\n",
      "Processing record 355 | el rosario\n",
      "Processing record 356 | buala\n",
      "skiros not found.\n",
      "Processing record 357 | jalu\n",
      "Processing record 358 | hami\n",
      "Processing record 359 | biskamzha\n",
      "Processing record 360 | aklavik\n",
      "Processing record 361 | beipiao\n",
      "Processing record 362 | naze\n",
      "Processing record 363 | leh\n",
      "Processing record 364 | tiksi\n",
      "Processing record 365 | balkhash\n",
      "Processing record 366 | chivay\n",
      "Processing record 367 | seydi\n",
      "sorvag not found.\n",
      "Processing record 368 | yelan\n",
      "Processing record 369 | laguna\n",
      "Processing record 370 | wesselsbron\n",
      "Processing record 371 | san luis\n",
      "Processing record 372 | maceio\n",
      "Processing record 373 | high rock\n",
      "Processing record 374 | port blair\n",
      "Processing record 375 | huanuco\n",
      "Processing record 376 | ketchikan\n",
      "Processing record 377 | nola\n",
      "katsiveli not found.\n",
      "Processing record 378 | salalah\n",
      "Processing record 379 | san jose de guanipa\n",
      "Processing record 380 | zaysan\n",
      "Processing record 381 | alexandria\n",
      "Processing record 382 | porto novo\n",
      "Processing record 383 | kudahuvadhoo\n",
      "Processing record 384 | korla\n",
      "Processing record 385 | sorland\n",
      "Processing record 386 | beni mazar\n",
      "Processing record 387 | svetlogorsk\n",
      "Processing record 388 | shagonar\n",
      "Processing record 389 | sharanga\n",
      "Processing record 390 | tuatapere\n",
      "Processing record 391 | lake havasu city\n",
      "Processing record 392 | ferrol\n",
      "Processing record 393 | dale\n",
      "Processing record 394 | samarai\n",
      "Processing record 395 | faanui\n",
      "Processing record 396 | berbera\n",
      "Processing record 397 | axim\n",
      "Processing record 398 | cururupu\n",
      "Processing record 399 | iberia\n",
      "Processing record 400 | hattiesburg\n",
      "Processing record 401 | taoudenni\n",
      "Processing record 402 | praya\n",
      "Processing record 403 | aitape\n",
      "Processing record 404 | khuzhir\n",
      "Processing record 405 | manokwari\n",
      "Processing record 406 | ningxiang\n",
      "Processing record 407 | kemijarvi\n",
      "Processing record 408 | meulaboh\n",
      "Processing record 409 | launceston\n",
      "Processing record 410 | raga\n",
      "Processing record 411 | norden\n",
      "Processing record 412 | olinda\n",
      "Processing record 413 | sohag\n",
      "Processing record 414 | victor harbor\n",
      "Processing record 415 | palasa\n",
      "tabialan not found.\n",
      "Processing record 416 | fairbanks\n",
      "Processing record 417 | bilibino\n",
      "Processing record 418 | aksarka\n",
      "Processing record 419 | alekseyevsk\n",
      "Processing record 420 | show low\n",
      "Processing record 421 | jiaojiang\n",
      "Processing record 422 | grand-bourg\n",
      "Processing record 423 | nanaimo\n",
      "Processing record 424 | dingle\n",
      "Processing record 425 | bonfim\n",
      "Processing record 426 | lagoa\n",
      "Processing record 427 | manono\n",
      "Processing record 428 | palmer\n",
      "Processing record 429 | denpasar\n",
      "Processing record 430 | russell\n",
      "Processing record 431 | caiaponia\n",
      "Processing record 432 | yambio\n",
      "Processing record 433 | sola\n",
      "Processing record 434 | marawi\n",
      "Processing record 435 | davidson\n",
      "Processing record 436 | grand gaube\n",
      "Processing record 437 | chhoti sadri\n",
      "Processing record 438 | kamaishi\n",
      "Processing record 439 | orta nova\n",
      "Processing record 440 | alyangula\n",
      "Processing record 441 | fort-shevchenko\n",
      "Processing record 442 | hanzhong\n",
      "Processing record 443 | nova olimpia\n",
      "Processing record 444 | paris\n",
      "Processing record 445 | kabinda\n",
      "Processing record 446 | kawalu\n",
      "Processing record 447 | fort nelson\n",
      "Processing record 448 | husavik\n",
      "Processing record 449 | hofn\n",
      "Processing record 450 | letterkenny\n",
      "Processing record 451 | sabzevar\n",
      "Processing record 452 | sun valley\n",
      "Processing record 453 | shihezi\n",
      "Processing record 454 | corn island\n",
      "Processing record 455 | mega\n",
      "Processing record 456 | mandal\n",
      "Processing record 457 | waingapu\n",
      "Processing record 458 | korhogo\n",
      "grand river south east not found.\n",
      "Processing record 459 | itoman\n",
      "Processing record 460 | salta\n",
      "Processing record 461 | clyde river\n",
      "Processing record 462 | belaya gora\n",
      "Processing record 463 | nouadhibou\n",
      "Processing record 464 | maneadero\n",
      "Processing record 465 | asyut\n",
      "Processing record 466 | ambositra\n",
      "Processing record 467 | loukhi\n",
      "Processing record 468 | olafsvik\n",
      "Processing record 469 | damietta\n",
      "Processing record 470 | independence\n",
      "Processing record 471 | avera\n"
     ]
    },
    {
     "name": "stdout",
     "output_type": "stream",
     "text": [
      "Processing record 472 | amapa\n",
      "Processing record 473 | esna\n",
      "Processing record 474 | hohhot\n",
      "Processing record 475 | portree\n",
      "Processing record 476 | paso de carrasco\n",
      "Processing record 477 | atambua\n",
      "Processing record 478 | asfi\n",
      "Processing record 479 | kaputa\n",
      "Processing record 480 | polaniec\n",
      "Processing record 481 | azare\n",
      "Processing record 482 | lokosovo\n",
      "Processing record 483 | nago\n",
      "Processing record 484 | tarko-sale\n",
      "Processing record 485 | cachoeira\n",
      "Processing record 486 | berlevag\n",
      "Processing record 487 | kargil\n",
      "Processing record 488 | mufulira\n",
      "Processing record 489 | saint-pierre\n",
      "Processing record 490 | erzurum\n",
      "Processing record 491 | vetapalem\n",
      "Processing record 492 | nikel\n",
      "Processing record 493 | znamenskoye\n",
      "Processing record 494 | shahr-e babak\n",
      "Processing record 495 | heyang\n",
      "Processing record 496 | astoria\n",
      "Processing record 497 | beisfjord\n",
      "Processing record 498 | jackson\n",
      "Processing record 499 | barberton\n",
      "Processing record 500 | luganville\n",
      "Processing record 501 | dumas\n",
      "Processing record 502 | tyrma\n",
      "Processing record 503 | umm lajj\n",
      "Processing record 504 | shenjiamen\n",
      "Processing record 505 | la palma\n",
      "Processing record 506 | filadelfia\n",
      "gurskoye not found.\n",
      "Processing record 507 | bilma\n",
      "Processing record 508 | asau\n",
      "haibowan not found.\n",
      "Processing record 509 | lavumisa\n",
      "Processing record 510 | kalmunai\n",
      "Processing record 511 | petauke\n",
      "Processing record 512 | praxedis guerrero\n",
      "Processing record 513 | comandau\n",
      "Processing record 514 | elat\n",
      "Processing record 515 | sembakung\n",
      "chom bung not found.\n",
      "Processing record 516 | oxbow\n",
      "Processing record 517 | odda\n",
      "Processing record 518 | north platte\n",
      "Processing record 519 | bolobo\n",
      "Processing record 520 | carlos antonio lopez\n",
      "Processing record 521 | limbang\n",
      "Processing record 522 | wanning\n",
      "xadani not found.\n",
      "Processing record 523 | urumqi\n",
      "Processing record 524 | punahana\n",
      "karaul not found.\n",
      "Processing record 525 | nantucket\n",
      "Processing record 526 | algiers\n",
      "Processing record 527 | niono\n",
      "Processing record 528 | petropavlovsk-kamchatskiy\n",
      "Processing record 529 | forestville\n",
      "Processing record 530 | gweru\n",
      "Processing record 531 | blagoyevo\n",
      "buqayq not found.\n",
      "Processing record 532 | vestmannaeyjar\n",
      "sandavagur not found.\n",
      "Processing record 533 | providencia\n",
      "Processing record 534 | ulaanbaatar\n",
      "Processing record 535 | jais\n",
      "Processing record 536 | pouembout\n",
      "tabiauea not found.\n",
      "Processing record 537 | hadzici\n",
      "Processing record 538 | ahipara\n"
     ]
    }
   ],
   "source": [
    "city_list = []\n",
    "temperature = []\n",
    "lats = []\n",
    "long = []\n",
    "humidity = []\n",
    "cloudiness = []\n",
    "wind_speed = []\n",
    "country = []\n",
    "date = []\n",
    "count = 1\n",
    "\n",
    "\n",
    "for city in cities:\n",
    "    \n",
    "    response = requests.get(query_url + city).json()\n",
    "\n",
    "\n",
    "    try:\n",
    "\n",
    "        temperature.append(response['main']['temp_max'])\n",
    "        humidity.append(response['main']['humidity'])\n",
    "        lats.append(response['coord']['lat'])\n",
    "        long.append(response['coord']['lon'])\n",
    "        cloudiness.append(response['clouds']['all'])\n",
    "        wind_speed.append(response['wind']['speed'])\n",
    "        country.append(response['sys']['country'])\n",
    "        date.append(response['dt'])\n",
    "        city_list.append(response['name'])\n",
    "\n",
    "        print(f\"Processing record {count} | {city}\")\n",
    "        count = count + 1\n",
    "        \n",
    "    except:\n",
    "        print(f\"{city} not found.\")\n",
    "        time.sleep(1)\n",
    "        \n",
    "              "
   ]
  },
  {
   "cell_type": "markdown",
   "id": "4a425f62",
   "metadata": {},
   "source": [
    "# Convert Raw Data to DataFrame\n",
    "\n",
    "\n",
    "* Export the city data into a .csv.\n",
    "\n",
    "* Display the DataFrame\n"
   ]
  },
  {
   "cell_type": "code",
   "execution_count": 5,
   "id": "27e501cf",
   "metadata": {
    "scrolled": false
   },
   "outputs": [
    {
     "data": {
      "text/html": [
       "<div>\n",
       "<style scoped>\n",
       "    .dataframe tbody tr th:only-of-type {\n",
       "        vertical-align: middle;\n",
       "    }\n",
       "\n",
       "    .dataframe tbody tr th {\n",
       "        vertical-align: top;\n",
       "    }\n",
       "\n",
       "    .dataframe thead th {\n",
       "        text-align: right;\n",
       "    }\n",
       "</style>\n",
       "<table border=\"1\" class=\"dataframe\">\n",
       "  <thead>\n",
       "    <tr style=\"text-align: right;\">\n",
       "      <th></th>\n",
       "      <th>City</th>\n",
       "      <th>Lat</th>\n",
       "      <th>Lng</th>\n",
       "      <th>Max Temp</th>\n",
       "      <th>Humidity</th>\n",
       "      <th>Cloudiness</th>\n",
       "      <th>Wind Speed</th>\n",
       "      <th>Country</th>\n",
       "      <th>Date</th>\n",
       "    </tr>\n",
       "  </thead>\n",
       "  <tbody>\n",
       "    <tr>\n",
       "      <th>0</th>\n",
       "      <td>Tuktoyaktuk</td>\n",
       "      <td>69.4541</td>\n",
       "      <td>-133.0374</td>\n",
       "      <td>51.80</td>\n",
       "      <td>100</td>\n",
       "      <td>100</td>\n",
       "      <td>5.75</td>\n",
       "      <td>CA</td>\n",
       "      <td>1660666765</td>\n",
       "    </tr>\n",
       "    <tr>\n",
       "      <th>1</th>\n",
       "      <td>Pevek</td>\n",
       "      <td>69.7008</td>\n",
       "      <td>170.3133</td>\n",
       "      <td>38.70</td>\n",
       "      <td>67</td>\n",
       "      <td>42</td>\n",
       "      <td>8.81</td>\n",
       "      <td>RU</td>\n",
       "      <td>1660666766</td>\n",
       "    </tr>\n",
       "    <tr>\n",
       "      <th>2</th>\n",
       "      <td>Sorong</td>\n",
       "      <td>-0.8833</td>\n",
       "      <td>131.2500</td>\n",
       "      <td>76.23</td>\n",
       "      <td>88</td>\n",
       "      <td>100</td>\n",
       "      <td>3.06</td>\n",
       "      <td>ID</td>\n",
       "      <td>1660666766</td>\n",
       "    </tr>\n",
       "    <tr>\n",
       "      <th>3</th>\n",
       "      <td>Khatanga</td>\n",
       "      <td>71.9667</td>\n",
       "      <td>102.5000</td>\n",
       "      <td>41.97</td>\n",
       "      <td>87</td>\n",
       "      <td>1</td>\n",
       "      <td>10.02</td>\n",
       "      <td>RU</td>\n",
       "      <td>1660666766</td>\n",
       "    </tr>\n",
       "    <tr>\n",
       "      <th>4</th>\n",
       "      <td>Hasaki</td>\n",
       "      <td>35.7333</td>\n",
       "      <td>140.8333</td>\n",
       "      <td>82.80</td>\n",
       "      <td>80</td>\n",
       "      <td>100</td>\n",
       "      <td>13.27</td>\n",
       "      <td>JP</td>\n",
       "      <td>1660666768</td>\n",
       "    </tr>\n",
       "  </tbody>\n",
       "</table>\n",
       "</div>"
      ],
      "text/plain": [
       "          City      Lat       Lng  Max Temp  Humidity  Cloudiness  Wind Speed  \\\n",
       "0  Tuktoyaktuk  69.4541 -133.0374     51.80       100         100        5.75   \n",
       "1        Pevek  69.7008  170.3133     38.70        67          42        8.81   \n",
       "2       Sorong  -0.8833  131.2500     76.23        88         100        3.06   \n",
       "3     Khatanga  71.9667  102.5000     41.97        87           1       10.02   \n",
       "4       Hasaki  35.7333  140.8333     82.80        80         100       13.27   \n",
       "\n",
       "  Country        Date  \n",
       "0      CA  1660666765  \n",
       "1      RU  1660666766  \n",
       "2      ID  1660666766  \n",
       "3      RU  1660666766  \n",
       "4      JP  1660666768  "
      ]
     },
     "execution_count": 5,
     "metadata": {},
     "output_type": "execute_result"
    }
   ],
   "source": [
    "# create a data frame\n",
    "weather_data = pd.DataFrame({\n",
    "    \"City\": city_list,\n",
    "    \"Lat\": lats,\n",
    "    \"Lng\": long,\n",
    "    \"Max Temp\": temperature,\n",
    "    \"Humidity\": humidity,\n",
    "    \"Cloudiness\": cloudiness,\n",
    "    \"Wind Speed\": wind_speed,\n",
    "    \"Country\": country,\n",
    "    \"Date\": date\n",
    "})\n",
    "\n",
    "weather_data.head()"
   ]
  },
  {
   "cell_type": "code",
   "execution_count": 6,
   "id": "53697d73",
   "metadata": {},
   "outputs": [
    {
     "data": {
      "text/html": [
       "<div>\n",
       "<style scoped>\n",
       "    .dataframe tbody tr th:only-of-type {\n",
       "        vertical-align: middle;\n",
       "    }\n",
       "\n",
       "    .dataframe tbody tr th {\n",
       "        vertical-align: top;\n",
       "    }\n",
       "\n",
       "    .dataframe thead th {\n",
       "        text-align: right;\n",
       "    }\n",
       "</style>\n",
       "<table border=\"1\" class=\"dataframe\">\n",
       "  <thead>\n",
       "    <tr style=\"text-align: right;\">\n",
       "      <th></th>\n",
       "      <th>Lat</th>\n",
       "      <th>Lng</th>\n",
       "      <th>Max Temp</th>\n",
       "      <th>Humidity</th>\n",
       "      <th>Cloudiness</th>\n",
       "      <th>Wind Speed</th>\n",
       "      <th>Date</th>\n",
       "    </tr>\n",
       "  </thead>\n",
       "  <tbody>\n",
       "    <tr>\n",
       "      <th>count</th>\n",
       "      <td>538.000000</td>\n",
       "      <td>538.000000</td>\n",
       "      <td>538.000000</td>\n",
       "      <td>538.000000</td>\n",
       "      <td>538.000000</td>\n",
       "      <td>538.000000</td>\n",
       "      <td>5.380000e+02</td>\n",
       "    </tr>\n",
       "    <tr>\n",
       "      <th>mean</th>\n",
       "      <td>20.477061</td>\n",
       "      <td>15.101341</td>\n",
       "      <td>71.273123</td>\n",
       "      <td>68.027881</td>\n",
       "      <td>54.382900</td>\n",
       "      <td>8.578699</td>\n",
       "      <td>1.660667e+09</td>\n",
       "    </tr>\n",
       "    <tr>\n",
       "      <th>std</th>\n",
       "      <td>32.538089</td>\n",
       "      <td>91.478385</td>\n",
       "      <td>14.646022</td>\n",
       "      <td>22.656391</td>\n",
       "      <td>39.523114</td>\n",
       "      <td>5.545087</td>\n",
       "      <td>1.007621e+02</td>\n",
       "    </tr>\n",
       "    <tr>\n",
       "      <th>min</th>\n",
       "      <td>-54.800000</td>\n",
       "      <td>-175.200000</td>\n",
       "      <td>29.880000</td>\n",
       "      <td>6.000000</td>\n",
       "      <td>0.000000</td>\n",
       "      <td>0.000000</td>\n",
       "      <td>1.660666e+09</td>\n",
       "    </tr>\n",
       "    <tr>\n",
       "      <th>25%</th>\n",
       "      <td>-6.134500</td>\n",
       "      <td>-66.744575</td>\n",
       "      <td>60.895000</td>\n",
       "      <td>57.000000</td>\n",
       "      <td>12.000000</td>\n",
       "      <td>4.567500</td>\n",
       "      <td>1.660667e+09</td>\n",
       "    </tr>\n",
       "    <tr>\n",
       "      <th>50%</th>\n",
       "      <td>26.112900</td>\n",
       "      <td>22.025000</td>\n",
       "      <td>74.715000</td>\n",
       "      <td>72.000000</td>\n",
       "      <td>62.000000</td>\n",
       "      <td>7.325000</td>\n",
       "      <td>1.660667e+09</td>\n",
       "    </tr>\n",
       "    <tr>\n",
       "      <th>75%</th>\n",
       "      <td>45.779150</td>\n",
       "      <td>90.046875</td>\n",
       "      <td>81.020000</td>\n",
       "      <td>86.750000</td>\n",
       "      <td>99.000000</td>\n",
       "      <td>11.500000</td>\n",
       "      <td>1.660667e+09</td>\n",
       "    </tr>\n",
       "    <tr>\n",
       "      <th>max</th>\n",
       "      <td>78.218600</td>\n",
       "      <td>179.316700</td>\n",
       "      <td>111.130000</td>\n",
       "      <td>100.000000</td>\n",
       "      <td>100.000000</td>\n",
       "      <td>31.050000</td>\n",
       "      <td>1.660667e+09</td>\n",
       "    </tr>\n",
       "  </tbody>\n",
       "</table>\n",
       "</div>"
      ],
      "text/plain": [
       "              Lat         Lng    Max Temp    Humidity  Cloudiness  Wind Speed  \\\n",
       "count  538.000000  538.000000  538.000000  538.000000  538.000000  538.000000   \n",
       "mean    20.477061   15.101341   71.273123   68.027881   54.382900    8.578699   \n",
       "std     32.538089   91.478385   14.646022   22.656391   39.523114    5.545087   \n",
       "min    -54.800000 -175.200000   29.880000    6.000000    0.000000    0.000000   \n",
       "25%     -6.134500  -66.744575   60.895000   57.000000   12.000000    4.567500   \n",
       "50%     26.112900   22.025000   74.715000   72.000000   62.000000    7.325000   \n",
       "75%     45.779150   90.046875   81.020000   86.750000   99.000000   11.500000   \n",
       "max     78.218600  179.316700  111.130000  100.000000  100.000000   31.050000   \n",
       "\n",
       "               Date  \n",
       "count  5.380000e+02  \n",
       "mean   1.660667e+09  \n",
       "std    1.007621e+02  \n",
       "min    1.660666e+09  \n",
       "25%    1.660667e+09  \n",
       "50%    1.660667e+09  \n",
       "75%    1.660667e+09  \n",
       "max    1.660667e+09  "
      ]
     },
     "execution_count": 6,
     "metadata": {},
     "output_type": "execute_result"
    }
   ],
   "source": [
    "weather_data.describe()"
   ]
  },
  {
   "cell_type": "code",
   "execution_count": 7,
   "id": "2fdedea1",
   "metadata": {},
   "outputs": [],
   "source": [
    "# export DataFrame to CSV file\n",
    "weather_data.to_csv(\"output_data/cities.csv\", index=False, header=True)"
   ]
  },
  {
   "cell_type": "markdown",
   "id": "41bdb230",
   "metadata": {},
   "source": [
    "# Inspect the data and remove the cities where the humidity > 100%.\n",
    "\n",
    "\n",
    "* Skip this step if there are no cities that have humidity > 100%. "
   ]
  },
  {
   "cell_type": "code",
   "execution_count": 8,
   "id": "e39711c7",
   "metadata": {},
   "outputs": [
    {
     "data": {
      "text/html": [
       "<div>\n",
       "<style scoped>\n",
       "    .dataframe tbody tr th:only-of-type {\n",
       "        vertical-align: middle;\n",
       "    }\n",
       "\n",
       "    .dataframe tbody tr th {\n",
       "        vertical-align: top;\n",
       "    }\n",
       "\n",
       "    .dataframe thead th {\n",
       "        text-align: right;\n",
       "    }\n",
       "</style>\n",
       "<table border=\"1\" class=\"dataframe\">\n",
       "  <thead>\n",
       "    <tr style=\"text-align: right;\">\n",
       "      <th></th>\n",
       "      <th>City</th>\n",
       "      <th>Lat</th>\n",
       "      <th>Lng</th>\n",
       "      <th>Max Temp</th>\n",
       "      <th>Humidity</th>\n",
       "      <th>Cloudiness</th>\n",
       "      <th>Wind Speed</th>\n",
       "      <th>Country</th>\n",
       "      <th>Date</th>\n",
       "    </tr>\n",
       "  </thead>\n",
       "  <tbody>\n",
       "  </tbody>\n",
       "</table>\n",
       "</div>"
      ],
      "text/plain": [
       "Empty DataFrame\n",
       "Columns: [City, Lat, Lng, Max Temp, Humidity, Cloudiness, Wind Speed, Country, Date]\n",
       "Index: []"
      ]
     },
     "execution_count": 8,
     "metadata": {},
     "output_type": "execute_result"
    }
   ],
   "source": [
    "#  Get the indices of cities that have humidity over 100%.\n",
    "high_humidity = weather_data.loc[weather_data[\"Humidity\"] > 100]\n",
    "high_humidity.head()"
   ]
  },
  {
   "cell_type": "markdown",
   "id": "8b71af6c",
   "metadata": {},
   "source": [
    "# Plotting the Data\n",
    "\n",
    "\n",
    "* Use proper labeling of the plots using plot titles (including date of analysis) and axes labels.\n",
    "\n",
    "* Save the plotted figures as .pngs.\n"
   ]
  },
  {
   "cell_type": "markdown",
   "id": "ac33da2b",
   "metadata": {},
   "source": [
    "# Latitude vs. Temperature Plot\n"
   ]
  },
  {
   "cell_type": "code",
   "execution_count": 11,
   "id": "5c9e9285",
   "metadata": {},
   "outputs": [
    {
     "data": {
      "image/png": "[encoded data removed]",
      "text/plain": [
       "<Figure size 432x288 with 1 Axes>"
      ]
     },
     "metadata": {
      "needs_background": "light"
     },
     "output_type": "display_data"
    }
   ],
   "source": [
    "plt.scatter(weather_data['Lat'], weather_data['Max Temp'])\n",
    "plt.xlabel('Latitude')\n",
    "plt.ylabel('Temperature')\n",
    "plt.title('Latitude vs. Temperature')\n",
    "\n",
    "plt.savefig('output_data/Latitude-vs-Temperature.png')\n",
    "\n",
    "plt.show()\n"
   ]
  },
  {
   "cell_type": "markdown",
   "id": "6a05092f",
   "metadata": {},
   "source": [
    "This plot analyzes the relationship between temperature and latitude. It shows that higher temperature occurs between -20 to 40 degrees latitude."
   ]
  },
  {
   "cell_type": "markdown",
   "id": "c7d11578",
   "metadata": {},
   "source": [
    "# Latitude vs. Humidity Plot\n"
   ]
  },
  {
   "cell_type": "code",
   "execution_count": 12,
   "id": "6b7a2e6f",
   "metadata": {},
   "outputs": [
    {
     "data": {
      "image/png": "[encoded data removed]",
      "text/plain": [
       "<Figure size 432x288 with 1 Axes>"
      ]
     },
     "metadata": {
      "needs_background": "light"
     },
     "output_type": "display_data"
    }
   ],
   "source": [
    "plt.scatter(weather_data['Lat'], weather_data['Humidity'])\n",
    "plt.xlabel('Latitude')\n",
    "plt.ylabel('Humidity')\n",
    "plt.title('Latitude vs. Humidity')\n",
    "\n",
    "plt.savefig('output_data/Latitude-vs-Humidity.png')\n",
    "\n",
    "plt.show()"
   ]
  },
  {
   "cell_type": "markdown",
   "id": "d5237c2b",
   "metadata": {},
   "source": [
    "This plot analyzes the relationship between humidity and latitude. Based on what we see, we can say that there is no dependency between latitude and humidity."
   ]
  },
  {
   "cell_type": "markdown",
   "id": "936c3c58",
   "metadata": {},
   "source": [
    "# Latitude vs. Cloudiness Plot\n"
   ]
  },
  {
   "cell_type": "code",
   "execution_count": 14,
   "id": "d25a43e8",
   "metadata": {},
   "outputs": [
    {
     "data": {
      "image/png": "[encoded data removed]",
      "text/plain": [
       "<Figure size 432x288 with 1 Axes>"
      ]
     },
     "metadata": {
      "needs_background": "light"
     },
     "output_type": "display_data"
    }
   ],
   "source": [
    "plt.scatter(weather_data['Lat'], weather_data['Cloudiness'])\n",
    "plt.xlabel('Latitude')\n",
    "plt.ylabel('Cloudiness')\n",
    "plt.title('Latitude vs. Cloudiness')\n",
    "\n",
    "plt.savefig('output_data/Latitude-vs-Cloudiness.png')\n",
    "\n",
    "plt.show()"
   ]
  },
  {
   "cell_type": "markdown",
   "id": "daa61123",
   "metadata": {},
   "source": [
    "This plot analyzes the relationship between cloudiness and latitude. Based on what we see, we can say that there is no dependency between latitude and cloudiness."
   ]
  },
  {
   "cell_type": "markdown",
   "id": "e0ee4977",
   "metadata": {},
   "source": [
    "# Latitude vs. Wind Speed Plot\n"
   ]
  },
  {
   "cell_type": "code",
   "execution_count": 15,
   "id": "387019ee",
   "metadata": {},
   "outputs": [
    {
     "data": {
      "image/png": "[encoded data removed]",
      "text/plain": [
       "<Figure size 432x288 with 1 Axes>"
      ]
     },
     "metadata": {
      "needs_background": "light"
     },
     "output_type": "display_data"
    }
   ],
   "source": [
    "plt.scatter(weather_data['Lat'], weather_data['Wind Speed'])\n",
    "plt.xlabel('Latitude')\n",
    "plt.ylabel('Wind Speed')\n",
    "plt.title('Latitude vs. Wind Speed')\n",
    "\n",
    "plt.savefig('output_data/Latitude-vs-Wind_Speed.png')\n",
    "\n",
    "plt.show()"
   ]
  },
  {
   "cell_type": "markdown",
   "id": "805bff8b",
   "metadata": {},
   "source": [
    "This plot analyzes the relationship between wind speed and latitude. Based on what we see, we can say that there is no dependency between latitude and wind speed."
   ]
  },
  {
   "cell_type": "markdown",
   "id": "8caa1cd1",
   "metadata": {},
   "source": [
    "# Linear Regression\n"
   ]
  },
  {
   "cell_type": "code",
   "execution_count": 16,
   "id": "78c6e04d",
   "metadata": {},
   "outputs": [],
   "source": [
    "# creating the dataframes for the northern and southern hemisphere \n",
    "northern_hemisphere = weather_data.loc[weather_data[\"Lat\"]>=0]\n",
    "\n",
    "southern_hemisphere = weather_data.loc[weather_data[\"Lat\"]<0]"
   ]
  },
  {
   "cell_type": "markdown",
   "id": "772c5717",
   "metadata": {},
   "source": [
    "# Northern Hemisphere - Max Temp vs. Latitude Linear Regression\n"
   ]
  },
  {
   "cell_type": "code",
   "execution_count": 42,
   "id": "c5a46d59",
   "metadata": {},
   "outputs": [
    {
     "name": "stdout",
     "output_type": "stream",
     "text": [
      "The rsquare-value is: 0.4356943418643365\n"
     ]
    },
    {
     "data": {
      "image/png": "[encoded data removed]",
      "text/plain": [
       "<Figure size 432x288 with 1 Axes>"
      ]
     },
     "metadata": {
      "needs_background": "light"
     },
     "output_type": "display_data"
    }
   ],
   "source": [
    "#Linear Regression\n",
    "slope, intercept, rvalue, pvalue, stderr = linregress(northern_hemisphere['Lat'], northern_hemisphere['Max Temp'])\n",
    "\n",
    "line_equ = f\"y = {round(slope,2)}x + {round(intercept,2)}\"\n",
    "\n",
    "regress_value = slope*northern_hemisphere['Lat'] + intercept\n",
    "\n",
    "plt.scatter(northern_hemisphere['Lat'], northern_hemisphere['Max Temp'])\n",
    "plt.annotate(line_equ, (5,40), fontsize=15, color='r')\n",
    "plt.plot(northern_hemisphere['Lat'], regress_value, c='r')\n",
    "plt.title(f\"Latitude vs. Max Temperature For Northern Hemisphere\")\n",
    "plt.xlabel('Latitude')\n",
    "plt.ylabel('Temperature')\n",
    "\n",
    "print(f\"The rsquare-value is: {rvalue**2}\")\n",
    "\n",
    "plt.show()"
   ]
  },
  {
   "cell_type": "markdown",
   "id": "754c1f42",
   "metadata": {},
   "source": [
    "# Southern Hemisphere - Max Temp vs. Latitude Linear Regression\n"
   ]
  },
  {
   "cell_type": "code",
   "execution_count": 43,
   "id": "b91fb8a0",
   "metadata": {},
   "outputs": [
    {
     "name": "stdout",
     "output_type": "stream",
     "text": [
      "The rsquare-value is: 0.626252790636361\n"
     ]
    },
    {
     "data": {
      "image/png": "[encoded data removed]",
      "text/plain": [
       "<Figure size 432x288 with 1 Axes>"
      ]
     },
     "metadata": {
      "needs_background": "light"
     },
     "output_type": "display_data"
    }
   ],
   "source": [
    "#Linear Regression\n",
    "slope, intercept, rvalue, pvalue, stderr = linregress(southern_hemisphere['Lat'], southern_hemisphere['Max Temp'])\n",
    "\n",
    "line_equ = f\"y = {round(slope,2)}x + {round(intercept,2)}\"\n",
    "\n",
    "regress_value = slope*southern_hemisphere['Lat'] + intercept\n",
    "\n",
    "plt.scatter(southern_hemisphere['Lat'], southern_hemisphere['Max Temp'])\n",
    "plt.annotate(line_equ, (-25,40), fontsize=15, color='r')\n",
    "plt.plot(southern_hemisphere['Lat'], regress_value, c='r')\n",
    "plt.title(f\"Latitude vs. Max Temperature For Southern Hemisphere\")\n",
    "plt.xlabel('Latitude')\n",
    "plt.ylabel('Temperature')\n",
    "\n",
    "print(f\"The rsquare-value is: {rvalue**2}\")\n",
    "\n",
    "plt.show()"
   ]
  },
  {
   "cell_type": "markdown",
   "id": "8ed08e31",
   "metadata": {},
   "source": [
    "The linear regressions are modeling the dependence of temperature on latitude for both the Northern and Southern Hemisphere. \n",
    "We can see that in the North Hemisphere, when the latitude increases the temperature decreases. \n",
    "In the Southern Hemisphere, when the as latitude increases the temperature increases as well."
   ]
  },
  {
   "cell_type": "markdown",
   "id": "5d58e99b",
   "metadata": {},
   "source": [
    "# Northern Hemisphere - Humidity (%) vs. Latitude Linear Regression\n"
   ]
  },
  {
   "cell_type": "code",
   "execution_count": 41,
   "id": "0b85e555",
   "metadata": {},
   "outputs": [
    {
     "name": "stdout",
     "output_type": "stream",
     "text": [
      "The rsquare-value is: 0.0025198318256095527\n"
     ]
    },
    {
     "data": {
      "image/png": "[encoded data removed]",
      "text/plain": [
       "<Figure size 432x288 with 1 Axes>"
      ]
     },
     "metadata": {
      "needs_background": "light"
     },
     "output_type": "display_data"
    }
   ],
   "source": [
    "#Linear Regression\n",
    "slope, intercept, rvalue, pvalue, stderr = linregress(northern_hemisphere['Lat'], northern_hemisphere['Humidity'])\n",
    "\n",
    "line_equ = f\"y = {round(slope,2)}x + {round(intercept,2)}\"\n",
    "\n",
    "regress_value = slope*northern_hemisphere['Lat'] + intercept\n",
    "\n",
    "plt.scatter(northern_hemisphere['Lat'], northern_hemisphere['Humidity'])\n",
    "plt.annotate(line_equ, (45,15), fontsize=15, color='r')\n",
    "plt.plot(northern_hemisphere['Lat'], regress_value, c='r')\n",
    "plt.title(f\"Latitude vs. Humidity (%) For Northern Hemisphere\")\n",
    "plt.xlabel('Latitude')\n",
    "plt.ylabel('Humidity')\n",
    "\n",
    "print(f\"The rsquare-value is: {rvalue**2}\")\n",
    "\n",
    "plt.show()"
   ]
  },
  {
   "cell_type": "markdown",
   "id": "b6ab9ccd",
   "metadata": {},
   "source": [
    "# Southern Hemisphere - Humidity (%) vs. Latitude Linear Regression\n"
   ]
  },
  {
   "cell_type": "code",
   "execution_count": 40,
   "id": "e1fb556f",
   "metadata": {},
   "outputs": [
    {
     "name": "stdout",
     "output_type": "stream",
     "text": [
      "The rsquare-value is: 0.002320044151478926\n"
     ]
    },
    {
     "data": {
      "image/png": "[encoded data removed]",
      "text/plain": [
       "<Figure size 432x288 with 1 Axes>"
      ]
     },
     "metadata": {
      "needs_background": "light"
     },
     "output_type": "display_data"
    }
   ],
   "source": [
    "#Linear Regression\n",
    "slope, intercept, rvalue, pvalue, stderr = linregress(southern_hemisphere['Lat'], southern_hemisphere['Humidity'])\n",
    "\n",
    "line_equ = f\"y = {round(slope,2)}x + {round(intercept,2)}\"\n",
    "\n",
    "regress_value = slope*southern_hemisphere['Lat'] + intercept\n",
    "\n",
    "plt.scatter(southern_hemisphere['Lat'], southern_hemisphere['Humidity'])\n",
    "plt.annotate(line_equ, (-55,20), fontsize=15, color='r')\n",
    "plt.plot(southern_hemisphere['Lat'], regress_value, c='r')\n",
    "plt.title(f\"Latitude vs. Humidity (%) For Southern Hemisphere\")\n",
    "plt.xlabel('Latitude')\n",
    "plt.ylabel('Humidity')\n",
    "\n",
    "print(f\"The rsquare-value is: {rvalue**2}\")\n",
    "\n",
    "plt.show()"
   ]
  },
  {
   "cell_type": "markdown",
   "id": "a738f601",
   "metadata": {},
   "source": [
    "# Northern Hemisphere - Cloudiness (%) vs. Latitude Linear Regression\n"
   ]
  },
  {
   "cell_type": "code",
   "execution_count": 39,
   "id": "52466026",
   "metadata": {},
   "outputs": [
    {
     "name": "stdout",
     "output_type": "stream",
     "text": [
      "The rsquare-value is: 0.0029601785889741463\n"
     ]
    },
    {
     "data": {
      "image/png": "[encoded data removed]",
      "text/plain": [
       "<Figure size 432x288 with 1 Axes>"
      ]
     },
     "metadata": {
      "needs_background": "light"
     },
     "output_type": "display_data"
    }
   ],
   "source": [
    "#Linear Regression\n",
    "slope, intercept, rvalue, pvalue, stderr = linregress(northern_hemisphere['Lat'], northern_hemisphere['Cloudiness'])\n",
    "\n",
    "line_equ = f\"y = {round(slope,2)}x + {round(intercept,2)}\"\n",
    "\n",
    "regress_value = slope*northern_hemisphere['Lat'] + intercept\n",
    "\n",
    "plt.scatter(northern_hemisphere['Lat'], northern_hemisphere['Cloudiness'])\n",
    "plt.annotate(line_equ, (45,25), fontsize=15, color='r')\n",
    "plt.plot(northern_hemisphere['Lat'], regress_value, c='r')\n",
    "plt.title(f\"Latitude vs. Cloudiness (%) For Northern Hemisphere\")\n",
    "plt.xlabel('Latitude')\n",
    "plt.ylabel('Cloudiness')\n",
    "\n",
    "print(f\"The rsquare-value is: {rvalue**2}\")\n",
    "\n",
    "plt.show()"
   ]
  },
  {
   "cell_type": "markdown",
   "id": "65823683",
   "metadata": {},
   "source": [
    "# Southern Hemisphere - Cloudiness (%) vs. Latitude Linear Regression\n"
   ]
  },
  {
   "cell_type": "code",
   "execution_count": 38,
   "id": "0b229fc8",
   "metadata": {},
   "outputs": [
    {
     "name": "stdout",
     "output_type": "stream",
     "text": [
      "The rsquare-value is: 0.01275514569565796\n"
     ]
    },
    {
     "data": {
      "image/png": "[encoded data removed]",
      "text/plain": [
       "<Figure size 432x288 with 1 Axes>"
      ]
     },
     "metadata": {
      "needs_background": "light"
     },
     "output_type": "display_data"
    }
   ],
   "source": [
    "#Linear Regression\n",
    "slope, intercept, rvalue, pvalue, stderr = linregress(southern_hemisphere['Lat'], southern_hemisphere['Cloudiness'])\n",
    "\n",
    "line_equ = f\"y = {round(slope,2)}x + {round(intercept,2)}\"\n",
    "\n",
    "regress_value = slope*southern_hemisphere['Lat'] + intercept\n",
    "\n",
    "plt.scatter(southern_hemisphere['Lat'], southern_hemisphere['Cloudiness'])\n",
    "plt.annotate(line_equ, (-55,20), fontsize=15, color='r')\n",
    "plt.plot(southern_hemisphere['Lat'], regress_value, c='r')\n",
    "plt.title(f\"Latitude vs. Cloudiness (%) For Southern Hemisphere\")\n",
    "plt.xlabel('Latitude')\n",
    "plt.ylabel('Cloudiness')\n",
    "\n",
    "print(f\"The rsquare-value is: {rvalue**2}\")\n",
    "\n",
    "plt.show()"
   ]
  },
  {
   "cell_type": "markdown",
   "id": "b6e83847",
   "metadata": {},
   "source": [
    "# Northern Hemisphere - Wind Speed (mph) vs. Latitude Linear Regression\n"
   ]
  },
  {
   "cell_type": "code",
   "execution_count": 37,
   "id": "093eb9f7",
   "metadata": {},
   "outputs": [
    {
     "name": "stdout",
     "output_type": "stream",
     "text": [
      "The rsquare-value is: 3.52200330322209e-05\n"
     ]
    },
    {
     "data": {
      "image/png": "[encoded data removed]",
      "text/plain": [
       "<Figure size 432x288 with 1 Axes>"
      ]
     },
     "metadata": {
      "needs_background": "light"
     },
     "output_type": "display_data"
    }
   ],
   "source": [
    "#Linear Regression\n",
    "slope, intercept, rvalue, pvalue, stderr = linregress(northern_hemisphere['Lat'], northern_hemisphere['Wind Speed'])\n",
    "\n",
    "line_equ = f\"y = {round(slope,2)}x + {round(intercept,2)}\"\n",
    "\n",
    "regress_value = slope*northern_hemisphere['Lat'] + intercept\n",
    "\n",
    "plt.scatter(northern_hemisphere['Lat'], northern_hemisphere['Wind Speed'])\n",
    "plt.annotate(line_equ, (45,25), fontsize=15, color='r')\n",
    "plt.plot(northern_hemisphere['Lat'], regress_value, c='r')\n",
    "plt.title(f\"Latitude vs. Wind Speed (mph) For Northern Hemisphere\")\n",
    "plt.xlabel('Latitude')\n",
    "plt.ylabel('Wind Speed')\n",
    "\n",
    "print(f\"The rsquare-value is: {rvalue**2}\")\n",
    "\n",
    "plt.show()"
   ]
  },
  {
   "cell_type": "markdown",
   "id": "b0abc7ca",
   "metadata": {},
   "source": [
    "# Southern Hemisphere - Wind Speed (mph) vs. Latitude Linear Regression\n"
   ]
  },
  {
   "cell_type": "code",
   "execution_count": 36,
   "id": "47850174",
   "metadata": {},
   "outputs": [
    {
     "name": "stdout",
     "output_type": "stream",
     "text": [
      "The rsquare-value is: 0.011505113798741336\n"
     ]
    },
    {
     "data": {
      "image/png": "[encoded data removed]",
      "text/plain": [
       "<Figure size 432x288 with 1 Axes>"
      ]
     },
     "metadata": {
      "needs_background": "light"
     },
     "output_type": "display_data"
    }
   ],
   "source": [
    "#Linear Regression\n",
    "slope, intercept, rvalue, pvalue, stderr = linregress(southern_hemisphere['Lat'], southern_hemisphere['Wind Speed'])\n",
    "\n",
    "line_equ = f\"y = {round(slope,2)}x + {round(intercept,2)}\"\n",
    "\n",
    "regress_value = slope*southern_hemisphere['Lat'] + intercept\n",
    "\n",
    "plt.scatter(southern_hemisphere['Lat'], southern_hemisphere['Wind Speed'])\n",
    "plt.annotate(line_equ, (-55,20), fontsize=15, color='r')\n",
    "plt.plot(southern_hemisphere['Lat'], regress_value, c='r')\n",
    "plt.title(f\"Latitude vs. Wind Speed (mph) For Southern Hemisphere\")\n",
    "plt.xlabel('Latitude')\n",
    "plt.ylabel('Wind Speed')\n",
    "\n",
    "print(f\"The rsquare-value is: {rvalue**2}\")\n",
    "\n",
    "plt.show()"
   ]
  },
  {
   "cell_type": "code",
   "execution_count": null,
   "id": "4501bce5",
   "metadata": {},
   "outputs": [],
   "source": []
  }
 ],
 "metadata": {
  "kernelspec": {
   "display_name": "Python 3 (ipykernel)",
   "language": "python",
   "name": "python3"
  },
  "language_info": {
   "codemirror_mode": {
    "name": "ipython",
    "version": 3
   },
   "file_extension": ".py",
   "mimetype": "text/x-python",
   "name": "python",
   "nbconvert_exporter": "python",
   "pygments_lexer": "ipython3",
   "version": "3.8.13"
  },
  "vscode": {
   "interpreter": {
    "hash": "db816d7616de24ade41e083521320c478457ecc7c227d9955d702456c2841bc9"
   }
  }
 },
 "nbformat": 4,
 "nbformat_minor": 5
}

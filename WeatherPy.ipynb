{
 "cells": [
  {
   "cell_type": "markdown",
   "id": "7dcd9db2",
   "metadata": {},
   "source": [
    "# Note\n",
    "\n",
    "\n",
    "* Instructions have been included for each segment. You do not have to follow them exactly, but they are included to help you think through the steps.\n"
   ]
  },
  {
   "cell_type": "code",
   "execution_count": null,
   "id": "b76d8ae2",
   "metadata": {},
   "outputs": [],
   "source": [
    "# Dependencies and Setup\n",
    "import matplotlib.pyplot as plt\n",
    "import pandas as pd\n",
    "import numpy as np\n",
    "import requests\n",
    "import time\n",
    "from scipy.stats import linregress\n",
    "\n",
    "# Import API key\n",
    "from api_keys import weather_api_key\n",
    "\n",
    "# Incorporated citipy to determine city based on latitude and longitude\n",
    "from citipy import citipy\n",
    "\n",
    "# Output File (CSV)\n",
    "output_data_file = \"output_data/cities.csv\"\n",
    "\n",
    "# Range of latitudes and longitudes\n",
    "lat_range = (-90, 90)\n",
    "lng_range = (-180, 180)"
   ]
  },
  {
   "cell_type": "markdown",
   "id": "0bc735c5",
   "metadata": {},
   "source": [
    "# Generate Cities List\n"
   ]
  },
  {
   "cell_type": "code",
   "execution_count": null,
   "id": "fa95fe10",
   "metadata": {},
   "outputs": [],
   "source": [
    "# List for holding lat_lngs and cities\n",
    "lat_lngs = []\n",
    "cities = []\n",
    "\n",
    "# Create a set of random lat and lng combinations\n",
    "lats = np.random.uniform(lat_range[0], lat_range[1], size=1500)\n",
    "lngs = np.random.uniform(lng_range[0], lng_range[1], size=1500)\n",
    "lat_lngs = zip(lats, lngs)\n",
    "\n",
    "# Identify nearest city for each lat, lng combination\n",
    "for lat_lng in lat_lngs:\n",
    "    city = citipy.nearest_city(lat_lng[0], lat_lng[1]).city_name\n",
    "    \n",
    "    # If the city is unique, then add it to a our cities list\n",
    "    if city not in cities:\n",
    "        cities.append(city)\n",
    "\n",
    "# Print the city count to confirm sufficient count\n",
    "len(cities)"
   ]
  },
  {
   "cell_type": "markdown",
   "id": "beb90a3f",
   "metadata": {},
   "source": [
    "# Perform API Calls\n",
    "\n",
    "\n",
    "* Perform a weather check on each city using a series of successive API calls.\n",
    "\n",
    "* Include a print log of each city as it'sbeing processed (with the city number and city name).\n",
    " "
   ]
  },
  {
   "cell_type": "code",
   "execution_count": null,
   "id": "7ccdadb0",
   "metadata": {},
   "outputs": [],
   "source": [
    "base_url = \"http://api.openweathermap.org/data/2.5/weather?\"\n",
    "units = \"imperial\"\n",
    "\n",
    "# Build partial query URL\n",
    "query_url = f\"{base_url}appid={weather_api_key}&units={units}&q=\""
   ]
  },
  {
   "cell_type": "code",
   "execution_count": null,
   "id": "8e8f3bb7",
   "metadata": {},
   "outputs": [],
   "source": [
    "number_of_cities = []\n",
    "temperature = []\n",
    "lats = []\n",
    "long = []\n",
    "humidity = []\n",
    "cloudiness = []\n",
    "wind_speed = []\n",
    "country = []\n",
    "date = []\n",
    "count = 0\n",
    "\n",
    "\n",
    "for city in cities:\n",
    "\n",
    "    try:\n",
    "\n",
    "        response = requests.get(query_url + city).json()\n",
    "        temperature.append(response['main']['temp_max'])\n",
    "        hums.append(response['main']['humidity'])\n",
    "        lats.append(response['coord']['lat'])\n",
    "        long.append(response['coord']['lon'])\n",
    "        cloudiness.append(response['clouds']['all'])\n",
    "        wind_speed.append(response['wind']['speed'])\n",
    "        country.append(response['sys']['country'])\n",
    "        date.append(response['dt'])\n",
    "        number_of_cities.append(city)\n",
    "\n",
    "        print(f\"Processing record {count} | {city}\")\n",
    "        count = count + 1\n",
    "        \n",
    "    except:\n",
    "        print(f\"{city} not found.\")\n",
    "        \n",
    "              "
   ]
  },
  {
   "cell_type": "markdown",
   "id": "4a425f62",
   "metadata": {},
   "source": [
    "# Convert Raw Data to DataFrame\n",
    "\n",
    "\n",
    "* Export the city data into a .csv.\n",
    "\n",
    "* Display the DataFrame\n"
   ]
  },
  {
   "cell_type": "code",
   "execution_count": null,
   "id": "27e501cf",
   "metadata": {
    "scrolled": false
   },
   "outputs": [],
   "source": [
    "# create a data frame\n",
    "cities_df = {\n",
    "    \"City\": number_of_cities,\n",
    "    \"Lat\": lats,\n",
    "    \"Lng\": long,\n",
    "    \"Max Temp\": temperature,\n",
    "    \"Humidity\": humidity,\n",
    "    \"Cloudiness\": cloudiness,\n",
    "    \"Wind Speed\": wind_speed,\n",
    "    \"Country\": country,\n",
    "    \"Date\": date\n",
    "}\n",
    "weather_data = pd.DataFrame(cities_df)\n",
    "weather_data"
   ]
  },
  {
   "cell_type": "code",
   "execution_count": null,
   "id": "2fdedea1",
   "metadata": {},
   "outputs": [],
   "source": [
    "# export DataFrame to CSV file\n",
    "weather_data.to_csv(\"output_data/cities.csv\")"
   ]
  },
  {
   "cell_type": "code",
   "execution_count": null,
   "id": "53697d73",
   "metadata": {},
   "outputs": [],
   "source": [
    "weather_data.describe()"
   ]
  },
  {
   "cell_type": "markdown",
   "id": "41bdb230",
   "metadata": {},
   "source": [
    "# Inspect the data and remove the cities where the humidity > 100%.\n",
    "\n",
    "\n",
    "* Skip this step if there are no cities that have humidity > 100%. "
   ]
  },
  {
   "cell_type": "code",
   "execution_count": null,
   "id": "e39711c7",
   "metadata": {},
   "outputs": [],
   "source": [
    "#  Get the indices of cities that have humidity over 100%.\n",
    "weather_data.loc[weather_data['Humidity'] > 100]"
   ]
  },
  {
   "cell_type": "code",
   "execution_count": null,
   "id": "a2587490",
   "metadata": {},
   "outputs": [],
   "source": [
    "Int64Index([], dtype='int64')"
   ]
  },
  {
   "cell_type": "code",
   "execution_count": null,
   "id": "d4ec4ae8",
   "metadata": {},
   "outputs": [],
   "source": [
    "# Make a new DataFrame equal to the city data to drop all humidity outliers by index.\n",
    "# Passing \"inplace=False\" will make a copy of the city_data DataFrame, which we call \"clean_city_data\"."
   ]
  },
  {
   "cell_type": "markdown",
   "id": "8b71af6c",
   "metadata": {},
   "source": [
    "# Plotting the Data\n",
    "\n",
    "\n",
    "* Use proper labeling of the plots using plot titles (including date of analysis) and axes labels.\n",
    "\n",
    "* Save the plotted figures as .pngs.\n"
   ]
  },
  {
   "cell_type": "markdown",
   "id": "ac33da2b",
   "metadata": {},
   "source": [
    "# Latitude vs. Temperature Plot\n"
   ]
  },
  {
   "cell_type": "code",
   "execution_count": null,
   "id": "5c9e9285",
   "metadata": {},
   "outputs": [],
   "source": [
    "plt.scatter(weather_data['Latitude'], weather_data['Temperature'])\n",
    "plt.xlabel('Latitude')\n",
    "plt.ylabel('Temperature')\n",
    "plt.title('Latitude vs. Temperature')\n",
    "\n",
    "plt.savefig('output_data/Latitude-vs-Temperature.png')\n",
    "\n",
    "plt.show()\n",
    "\n"
   ]
  },
  {
   "cell_type": "markdown",
   "id": "c7d11578",
   "metadata": {},
   "source": [
    "# Latitude vs. Humidity Plot\n"
   ]
  },
  {
   "cell_type": "code",
   "execution_count": null,
   "id": "6b7a2e6f",
   "metadata": {},
   "outputs": [],
   "source": [
    "plt.scatter(weather_data['Latitude'], weather_data['Humidity'])\n",
    "plt.xlabel('Latitude')\n",
    "plt.ylabel('Humidity')\n",
    "plt.title('Latitude vs. Humidity')\n",
    "\n",
    "plt.savefig('output_data/Latitude-vs-Humidity.png')\n",
    "\n",
    "plt.show()"
   ]
  },
  {
   "cell_type": "markdown",
   "id": "936c3c58",
   "metadata": {},
   "source": [
    "# Latitude vs. Cloudiness Plot\n"
   ]
  },
  {
   "cell_type": "code",
   "execution_count": null,
   "id": "d25a43e8",
   "metadata": {},
   "outputs": [],
   "source": [
    "plt.scatter(weather_data['Latitude'], weather_data['Cloudiness'])\n",
    "plt.xlabel('Latitude')\n",
    "plt.ylabel('Cloudiness')\n",
    "plt.title('Latitude vs. Cloudiness')\n",
    "\n",
    "plt.savefig('output_data/Latitude-vs-Cloudiness.png')\n",
    "\n",
    "plt.show()"
   ]
  },
  {
   "cell_type": "markdown",
   "id": "e0ee4977",
   "metadata": {},
   "source": [
    "# Latitude vs. Wind Speed Plot\n"
   ]
  },
  {
   "cell_type": "code",
   "execution_count": null,
   "id": "387019ee",
   "metadata": {},
   "outputs": [],
   "source": [
    "plt.scatter(weather_data['Latitude'], weather_data['Wind Speed'])\n",
    "plt.xlabel('Latitude')\n",
    "plt.ylabel('Wind Speed')\n",
    "plt.title('Latitude vs. Wind Speed')\n",
    "\n",
    "plt.savefig('output_data/Latitude-vs-Wind_Speed.png')\n",
    "\n",
    "plt.show()"
   ]
  },
  {
   "cell_type": "markdown",
   "id": "8caa1cd1",
   "metadata": {},
   "source": [
    "# Linear Regression\n"
   ]
  },
  {
   "cell_type": "code",
   "execution_count": null,
   "id": "78c6e04d",
   "metadata": {},
   "outputs": [],
   "source": []
  },
  {
   "cell_type": "markdown",
   "id": "772c5717",
   "metadata": {},
   "source": [
    "# Northern Hemisphere - Max Temp vs. Latitude Linear Regression\n"
   ]
  },
  {
   "cell_type": "code",
   "execution_count": null,
   "id": "c5a46d59",
   "metadata": {},
   "outputs": [],
   "source": []
  },
  {
   "cell_type": "markdown",
   "id": "5d58e99b",
   "metadata": {},
   "source": [
    "# Northern Hemisphere - Humidity (%) vs. Latitude Linear Regression\n"
   ]
  },
  {
   "cell_type": "code",
   "execution_count": null,
   "id": "0b85e555",
   "metadata": {},
   "outputs": [],
   "source": []
  },
  {
   "cell_type": "markdown",
   "id": "b6ab9ccd",
   "metadata": {},
   "source": [
    "# Southern Hemisphere - Humidity (%) vs. Latitude Linear Regression\n"
   ]
  },
  {
   "cell_type": "code",
   "execution_count": null,
   "id": "e1fb556f",
   "metadata": {},
   "outputs": [],
   "source": []
  },
  {
   "cell_type": "markdown",
   "id": "a738f601",
   "metadata": {},
   "source": [
    "# Northern Hemisphere - Cloudiness (%) vs. Latitude Linear Regression\n"
   ]
  },
  {
   "cell_type": "code",
   "execution_count": null,
   "id": "52466026",
   "metadata": {},
   "outputs": [],
   "source": []
  },
  {
   "cell_type": "markdown",
   "id": "65823683",
   "metadata": {},
   "source": [
    "# Southern Hemisphere - Cloudiness (%) vs. Latitude Linear Regression\n"
   ]
  },
  {
   "cell_type": "code",
   "execution_count": null,
   "id": "0b229fc8",
   "metadata": {},
   "outputs": [],
   "source": []
  },
  {
   "cell_type": "markdown",
   "id": "b6e83847",
   "metadata": {},
   "source": [
    "# Northern Hemisphere - Wind Speed (mph) vs. Latitude Linear Regression\n"
   ]
  },
  {
   "cell_type": "code",
   "execution_count": null,
   "id": "093eb9f7",
   "metadata": {},
   "outputs": [],
   "source": []
  },
  {
   "cell_type": "markdown",
   "id": "b0abc7ca",
   "metadata": {},
   "source": [
    "# Southern Hemisphere - Wind Speed (mph) vs. Latitude Linear Regression\n"
   ]
  },
  {
   "cell_type": "code",
   "execution_count": null,
   "id": "47850174",
   "metadata": {},
   "outputs": [],
   "source": []
  },
  {
   "cell_type": "code",
   "execution_count": null,
   "id": "4501bce5",
   "metadata": {},
   "outputs": [],
   "source": []
  }
 ],
 "metadata": {
  "kernelspec": {
   "display_name": "Python 3 (ipykernel)",
   "language": "python",
   "name": "python3"
  },
  "language_info": {
   "codemirror_mode": {
    "name": "ipython",
    "version": 3
   },
   "file_extension": ".py",
   "mimetype": "text/x-python",
   "name": "python",
   "nbconvert_exporter": "python",
   "pygments_lexer": "ipython3",
   "version": "3.8.13"
  },
  "vscode": {
   "interpreter": {
    "hash": "db816d7616de24ade41e083521320c478457ecc7c227d9955d702456c2841bc9"
   }
  }
 },
 "nbformat": 4,
 "nbformat_minor": 5
}

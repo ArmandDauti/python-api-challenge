{
 "cells": [
  {
   "cell_type": "markdown",
   "id": "7dcd9db2",
   "metadata": {},
   "source": [
    "# Note\n",
    "\n",
    "\n",
    "* Instructions have been included for each segment. You do not have to follow them exactly, but they are included to help you think through the steps.\n"
   ]
  },
  {
   "cell_type": "code",
   "execution_count": 1,
   "id": "b76d8ae2",
   "metadata": {},
   "outputs": [
    {
     "ename": "ModuleNotFoundError",
     "evalue": "No module named 'api_keys'",
     "output_type": "error",
     "traceback": [
      "\u001b[1;31m---------------------------------------------------------------------------\u001b[0m",
      "\u001b[1;31mModuleNotFoundError\u001b[0m                       Traceback (most recent call last)",
      "Input \u001b[1;32mIn [1]\u001b[0m, in \u001b[0;36m<cell line: 10>\u001b[1;34m()\u001b[0m\n\u001b[0;32m      7\u001b[0m \u001b[38;5;28;01mfrom\u001b[39;00m \u001b[38;5;21;01mscipy\u001b[39;00m\u001b[38;5;21;01m.\u001b[39;00m\u001b[38;5;21;01mstats\u001b[39;00m \u001b[38;5;28;01mimport\u001b[39;00m linregress\n\u001b[0;32m      9\u001b[0m \u001b[38;5;66;03m# Import API key\u001b[39;00m\n\u001b[1;32m---> 10\u001b[0m \u001b[38;5;28;01mfrom\u001b[39;00m \u001b[38;5;21;01mapi_keys\u001b[39;00m \u001b[38;5;28;01mimport\u001b[39;00m weather_api_key\n\u001b[0;32m     12\u001b[0m \u001b[38;5;66;03m# Incorporated citipy to determine city based on latitude and longitude\u001b[39;00m\n\u001b[0;32m     13\u001b[0m \u001b[38;5;28;01mfrom\u001b[39;00m \u001b[38;5;21;01mcitipy\u001b[39;00m \u001b[38;5;28;01mimport\u001b[39;00m citipy\n",
      "\u001b[1;31mModuleNotFoundError\u001b[0m: No module named 'api_keys'"
     ]
    }
   ],
   "source": [
    "# Dependencies and Setup\n",
    "import matplotlib.pyplot as plt\n",
    "import pandas as pd\n",
    "import numpy as np\n",
    "import requests\n",
    "import time\n",
    "from scipy.stats import linregress\n",
    "\n",
    "# Import API key\n",
    "from api_keys import weather_api_key\n",
    "\n",
    "# Incorporated citipy to determine city based on latitude and longitude\n",
    "from citipy import citipy\n",
    "\n",
    "# Output File (CSV)\n",
    "output_data_file = \"output_data/cities.csv\"\n",
    "\n",
    "# Range of latitudes and longitudes\n",
    "lat_range = (-90, 90)\n",
    "lng_range = (-180, 180)"
   ]
  },
  {
   "cell_type": "markdown",
   "id": "0bc735c5",
   "metadata": {},
   "source": [
    "# Generate Cities List\n"
   ]
  },
  {
   "cell_type": "code",
   "execution_count": null,
   "id": "fa95fe10",
   "metadata": {},
   "outputs": [],
   "source": [
    "# List for holding lat_lngs and cities\n",
    "lat_lngs = []\n",
    "cities = []\n",
    "\n",
    "# Create a set of random lat and lng combinations\n",
    "lats = np.random.uniform(lat_range[0], lat_range[1], size=1500)\n",
    "lngs = np.random.uniform(lng_range[0], lng_range[1], size=1500)\n",
    "lat_lngs = zip(lats, lngs)\n",
    "\n",
    "# Identify nearest city for each lat, lng combination\n",
    "for lat_lng in lat_lngs:\n",
    "    city = citipy.nearest_city(lat_lng[0], lat_lng[1]).city_name\n",
    "    \n",
    "    # If the city is unique, then add it to a our cities list\n",
    "    if city not in cities:\n",
    "        cities.append(city)\n",
    "\n",
    "# Print the city count to confirm sufficient count\n",
    "len(cities)"
   ]
  },
  {
   "cell_type": "markdown",
   "id": "beb90a3f",
   "metadata": {},
   "source": [
    "# Perform API Calls\n",
    "\n",
    "\n",
    "* Perform a weather check on each city using a series of successive API calls.\n",
    "\n",
    "* Include a print log of each city as it'sbeing processed (with the city number and city name).\n",
    " "
   ]
  },
  {
   "cell_type": "code",
   "execution_count": null,
   "id": "7ccdadb0",
   "metadata": {},
   "outputs": [],
   "source": []
  },
  {
   "cell_type": "markdown",
   "id": "4a425f62",
   "metadata": {},
   "source": [
    "# Convert Raw Data to DataFrame\n",
    "\n",
    "\n",
    "* Export the city data into a .csv.\n",
    "\n",
    "* Display the DataFrame\n"
   ]
  },
  {
   "cell_type": "markdown",
   "id": "41bdb230",
   "metadata": {},
   "source": [
    "# Inspect the data and remove the cities where the humidity > 100%.\n",
    "\n",
    "\n",
    "* Skip this step if there are no cities that have humidity > 100%. "
   ]
  },
  {
   "cell_type": "code",
   "execution_count": null,
   "id": "e39711c7",
   "metadata": {},
   "outputs": [],
   "source": [
    "#  Get the indices of cities that have humidity over 100%.\n",
    " "
   ]
  },
  {
   "cell_type": "code",
   "execution_count": null,
   "id": "a2587490",
   "metadata": {},
   "outputs": [],
   "source": [
    "Int64Index([], dtype='int64')"
   ]
  },
  {
   "cell_type": "code",
   "execution_count": null,
   "id": "d4ec4ae8",
   "metadata": {},
   "outputs": [],
   "source": [
    "# Make a new DataFrame equal to the city data to drop all humidity outliers by index.\n",
    "# Passing \"inplace=False\" will make a copy of the city_data DataFrame, which we call \"clean_city_data\"."
   ]
  },
  {
   "cell_type": "markdown",
   "id": "8b71af6c",
   "metadata": {},
   "source": [
    "# Plotting the Data\n",
    "\n",
    "\n",
    "* Use proper labeling of the plots using plot titles (including date of analysis) and axes labels.\n",
    "\n",
    "* Save the plotted figures as .pngs.\n"
   ]
  },
  {
   "cell_type": "markdown",
   "id": "ac33da2b",
   "metadata": {},
   "source": [
    "# Latitude vs. Temperature Plot\n"
   ]
  },
  {
   "cell_type": "markdown",
   "id": "c7d11578",
   "metadata": {},
   "source": [
    "# Latitude vs. Humidity Plot\n"
   ]
  },
  {
   "cell_type": "markdown",
   "id": "936c3c58",
   "metadata": {},
   "source": [
    "# Latitude vs. Cloudiness Plot\n"
   ]
  },
  {
   "cell_type": "markdown",
   "id": "e0ee4977",
   "metadata": {},
   "source": [
    "# Latitude vs. Wind Speed Plot\n"
   ]
  },
  {
   "cell_type": "markdown",
   "id": "8caa1cd1",
   "metadata": {},
   "source": [
    "# Linear Regression\n"
   ]
  },
  {
   "cell_type": "markdown",
   "id": "772c5717",
   "metadata": {},
   "source": [
    "# Northern Hemisphere - Max Temp vs. Latitude Linear Regression\n"
   ]
  },
  {
   "cell_type": "markdown",
   "id": "5d58e99b",
   "metadata": {},
   "source": [
    "# Northern Hemisphere - Humidity (%) vs. Latitude Linear Regression\n"
   ]
  },
  {
   "cell_type": "markdown",
   "id": "b6ab9ccd",
   "metadata": {},
   "source": [
    "# Southern Hemisphere - Humidity (%) vs. Latitude Linear Regression\n"
   ]
  },
  {
   "cell_type": "markdown",
   "id": "a738f601",
   "metadata": {},
   "source": [
    "# Northern Hemisphere - Cloudiness (%) vs. Latitude Linear Regression\n"
   ]
  },
  {
   "cell_type": "markdown",
   "id": "65823683",
   "metadata": {},
   "source": [
    "# Southern Hemisphere - Cloudiness (%) vs. Latitude Linear Regression\n"
   ]
  },
  {
   "cell_type": "markdown",
   "id": "b6e83847",
   "metadata": {},
   "source": [
    "# Northern Hemisphere - Wind Speed (mph) vs. Latitude Linear Regression\n"
   ]
  },
  {
   "cell_type": "markdown",
   "id": "b0abc7ca",
   "metadata": {},
   "source": [
    "# Southern Hemisphere - Wind Speed (mph) vs. Latitude Linear Regression\n"
   ]
  },
  {
   "cell_type": "code",
   "execution_count": null,
   "id": "4501bce5",
   "metadata": {},
   "outputs": [],
   "source": []
  }
 ],
 "metadata": {
  "kernelspec": {
   "display_name": "Python 3 (ipykernel)",
   "language": "python",
   "name": "python3"
  },
  "language_info": {
   "codemirror_mode": {
    "name": "ipython",
    "version": 3
   },
   "file_extension": ".py",
   "mimetype": "text/x-python",
   "name": "python",
   "nbconvert_exporter": "python",
   "pygments_lexer": "ipython3",
   "version": "3.9.12"
  },
  "vscode": {
   "interpreter": {
    "hash": "db816d7616de24ade41e083521320c478457ecc7c227d9955d702456c2841bc9"
   }
  }
 },
 "nbformat": 4,
 "nbformat_minor": 5
}
